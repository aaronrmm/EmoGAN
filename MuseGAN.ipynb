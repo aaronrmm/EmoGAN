{
  "nbformat": 4,
  "nbformat_minor": 0,
  "metadata": {
    "colab": {
      "name": "MuseGAN.ipynb",
      "version": "0.3.2",
      "provenance": [],
      "collapsed_sections": [],
      "toc_visible": true,
      "include_colab_link": true
    },
    "kernelspec": {
      "name": "python3",
      "display_name": "Python 3"
    },
    "accelerator": "GPU"
  },
  "cells": [
    {
      "cell_type": "markdown",
      "metadata": {
        "id": "view-in-github",
        "colab_type": "text"
      },
      "source": [
        "<a href=\"https://colab.research.google.com/github/aaronrmm/EmoGAN/blob/master/MuseGAN.ipynb\" target=\"_parent\"><img src=\"https://colab.research.google.com/assets/colab-badge.svg\" alt=\"Open In Colab\"/></a>"
      ]
    },
    {
      "metadata": {
        "id": "2hcfX_3KsSe-",
        "colab_type": "code",
        "colab": {
          "base_uri": "https://localhost:8080/",
          "height": 139
        },
        "outputId": "2ec6c2ea-1bb5-4025-b671-c0b849890002"
      },
      "cell_type": "code",
      "source": [
        "!git clone https://github.com/aaronrmm/EmoGAN.git"
      ],
      "execution_count": 1,
      "outputs": [
        {
          "output_type": "stream",
          "text": [
            "Cloning into 'EmoGAN'...\n",
            "remote: Enumerating objects: 36, done.\u001b[K\n",
            "remote: Counting objects: 100% (36/36), done.\u001b[K\n",
            "remote: Compressing objects: 100% (24/24), done.\u001b[K\n",
            "remote: Total 1399 (delta 20), reused 25 (delta 12), pack-reused 1363\u001b[K\n",
            "Receiving objects: 100% (1399/1399), 52.18 MiB | 30.44 MiB/s, done.\n",
            "Resolving deltas: 100% (777/777), done.\n"
          ],
          "name": "stdout"
        }
      ]
    },
    {
      "metadata": {
        "id": "XyuhxZYr6ulT",
        "colab_type": "code",
        "colab": {
          "base_uri": "https://localhost:8080/",
          "height": 869
        },
        "outputId": "9731b15b-86c2-40cd-c915-ed631005fac6"
      },
      "cell_type": "code",
      "source": [
        "\n",
        "!pip install pypianoroll\n",
        "!git clone https://github.com/salu133445/pypianoroll.git\n",
        "!pip install pretty_midi\n",
        "!pip install imageio\n",
        "!cd EmoGAN; git pull"
      ],
      "execution_count": 2,
      "outputs": [
        {
          "output_type": "stream",
          "text": [
            "Collecting pypianoroll\n",
            "  Downloading https://files.pythonhosted.org/packages/aa/33/fa38c07909e425add987146cb0f8d5ad80262f6a72cc820bf7e5f690d527/pypianoroll-0.5.0.tar.gz\n",
            "Requirement already satisfied: six<2.0,>=1.0.0 in /usr/local/lib/python3.6/dist-packages (from pypianoroll) (1.11.0)\n",
            "Requirement already satisfied: numpy<2.0,>=1.10.0 in /usr/local/lib/python3.6/dist-packages (from pypianoroll) (1.14.6)\n",
            "Collecting scipy<2.0,>=1.0.0 (from pypianoroll)\n",
            "\u001b[?25l  Downloading https://files.pythonhosted.org/packages/a8/0b/f163da98d3a01b3e0ef1cab8dd2123c34aee2bafbb1c5bffa354cc8a1730/scipy-1.1.0-cp36-cp36m-manylinux1_x86_64.whl (31.2MB)\n",
            "\u001b[K    100% |████████████████████████████████| 31.2MB 1.3MB/s \n",
            "\u001b[?25hCollecting pretty_midi<1.0,>=0.2.8 (from pypianoroll)\n",
            "\u001b[?25l  Downloading https://files.pythonhosted.org/packages/31/82/ee67696b85ca3be267c67a46595545e719eec677dcd94e3cf827db833fb8/pretty_midi-0.2.8.tar.gz (5.6MB)\n",
            "\u001b[K    100% |████████████████████████████████| 5.6MB 8.5MB/s \n",
            "\u001b[?25hCollecting mido>=1.1.16 (from pretty_midi<1.0,>=0.2.8->pypianoroll)\n",
            "\u001b[?25l  Downloading https://files.pythonhosted.org/packages/20/0a/81beb587b1ae832ea6a1901dc7c6faa380e8dd154e0a862f0a9f3d2afab9/mido-1.2.9-py2.py3-none-any.whl (52kB)\n",
            "\u001b[K    100% |████████████████████████████████| 61kB 22.3MB/s \n",
            "\u001b[?25hBuilding wheels for collected packages: pypianoroll, pretty-midi\n",
            "  Running setup.py bdist_wheel for pypianoroll ... \u001b[?25l-\b \bdone\n",
            "\u001b[?25h  Stored in directory: /root/.cache/pip/wheels/ed/f6/fb/5d070524ecf7ba9ed201247a293c01945cfd7f840f8ef338c0\n",
            "  Running setup.py bdist_wheel for pretty-midi ... \u001b[?25l-\b \b\\\b \bdone\n",
            "\u001b[?25h  Stored in directory: /root/.cache/pip/wheels/22/e7/6b/70eb5879f7dbcb4f44fee735a61d6298f9e082be8538b52422\n",
            "Successfully built pypianoroll pretty-midi\n",
            "Installing collected packages: scipy, mido, pretty-midi, pypianoroll\n",
            "  Found existing installation: scipy 0.19.1\n",
            "    Uninstalling scipy-0.19.1:\n",
            "      Successfully uninstalled scipy-0.19.1\n",
            "Successfully installed mido-1.2.9 pretty-midi-0.2.8 pypianoroll-0.5.0 scipy-1.1.0\n",
            "Cloning into 'pypianoroll'...\n",
            "remote: Enumerating objects: 21, done.\u001b[K\n",
            "remote: Counting objects: 100% (21/21), done.\u001b[K\n",
            "remote: Compressing objects: 100% (15/15), done.\u001b[K\n",
            "remote: Total 1522 (delta 6), reused 13 (delta 6), pack-reused 1501\u001b[K\n",
            "Receiving objects: 100% (1522/1522), 3.61 MiB | 16.31 MiB/s, done.\n",
            "Resolving deltas: 100% (1018/1018), done.\n",
            "Requirement already satisfied: pretty_midi in /usr/local/lib/python3.6/dist-packages (0.2.8)\n",
            "Requirement already satisfied: numpy>=1.7.0 in /usr/local/lib/python3.6/dist-packages (from pretty_midi) (1.14.6)\n",
            "Requirement already satisfied: six in /usr/local/lib/python3.6/dist-packages (from pretty_midi) (1.11.0)\n",
            "Requirement already satisfied: mido>=1.1.16 in /usr/local/lib/python3.6/dist-packages (from pretty_midi) (1.2.9)\n",
            "Collecting imageio\n",
            "\u001b[?25l  Downloading https://files.pythonhosted.org/packages/28/b4/cbb592964dfd71a9de6a5b08f882fd334fb99ae09ddc82081dbb2f718c81/imageio-2.4.1.tar.gz (3.3MB)\n",
            "\u001b[K    100% |████████████████████████████████| 3.3MB 7.0MB/s \n",
            "\u001b[?25hRequirement already satisfied: numpy in /usr/local/lib/python3.6/dist-packages (from imageio) (1.14.6)\n",
            "Requirement already satisfied: pillow in /usr/local/lib/python3.6/dist-packages (from imageio) (4.0.0)\n",
            "Requirement already satisfied: olefile in /usr/local/lib/python3.6/dist-packages (from pillow->imageio) (0.46)\n",
            "Building wheels for collected packages: imageio\n",
            "  Running setup.py bdist_wheel for imageio ... \u001b[?25l-\b \b\\\b \b|\b \bdone\n",
            "\u001b[?25h  Stored in directory: /root/.cache/pip/wheels/e0/43/31/605de9372ceaf657f152d3d5e82f42cf265d81db8bbe63cde1\n",
            "Successfully built imageio\n",
            "Installing collected packages: imageio\n",
            "Successfully installed imageio-2.4.1\n",
            "Already up to date.\n"
          ],
          "name": "stdout"
        }
      ]
    },
    {
      "metadata": {
        "id": "7-nHgPnwJab-",
        "colab_type": "text"
      },
      "cell_type": "markdown",
      "source": [
        "# New Section"
      ]
    },
    {
      "metadata": {
        "id": "CbuHDciPUCyF",
        "colab_type": "code",
        "colab": {
          "base_uri": "https://localhost:8080/",
          "height": 384
        },
        "outputId": "fbaadd2f-f9e5-48e9-8080-8f5492092c4e"
      },
      "cell_type": "code",
      "source": [
        "filename=\"lastfm_alternative_8b_phrase.npy\"\n",
        "fileid=\"1x3CeSqE6ElWa6V7ueNl8FKPFmMoyu4ED\"\n",
        "\n",
        "confirm = !(wget --quiet --save-cookies /tmp/cookies.txt --keep-session-cookies --no-check-certificate \"https://docs.google.com/uc?export=download&id=$fileid\" -O- | sed -rn 's/.*confirm=([0-9A-Za-z_]+).*/\\1\\n/p')\n",
        "\n",
        "!echo $confirm\n",
        "\n",
        "print(confirm)\n",
        "\n",
        "confirm = str(confirm)\n",
        "\n",
        "print(confirm)\n",
        "\n",
        "confirm = confirm[2:-2]\n",
        "\n",
        "!wget -O $filename --load-cookies /tmp/cookies.txt \"https://docs.google.com/uc?export=download&confirm=$confirm&id=$fileid\"\n",
        "\n",
        "!rm -rf /tmp/cookies.txt\n",
        "\n"
      ],
      "execution_count": 3,
      "outputs": [
        {
          "output_type": "stream",
          "text": [
            "[svPe]\n",
            "['svPe']\n",
            "['svPe']\n",
            "--2018-10-28 06:43:55--  https://docs.google.com/uc?export=download&confirm=svPe&id=1x3CeSqE6ElWa6V7ueNl8FKPFmMoyu4ED\n",
            "Resolving docs.google.com (docs.google.com)... 173.194.192.102, 173.194.192.138, 173.194.192.100, ...\n",
            "Connecting to docs.google.com (docs.google.com)|173.194.192.102|:443... connected.\n",
            "HTTP request sent, awaiting response... 302 Moved Temporarily\n",
            "Location: https://doc-0s-b8-docs.googleusercontent.com/docs/securesc/ha0ro937gcuc7l7deffksulhg5h7mbp1/2e46mkaup4hlsblbn9a2qj0ple93230i/1540706400000/15994423637875292506/*/1x3CeSqE6ElWa6V7ueNl8FKPFmMoyu4ED?e=download [following]\n",
            "Warning: wildcards not supported in HTTP.\n",
            "--2018-10-28 06:43:55--  https://doc-0s-b8-docs.googleusercontent.com/docs/securesc/ha0ro937gcuc7l7deffksulhg5h7mbp1/2e46mkaup4hlsblbn9a2qj0ple93230i/1540706400000/15994423637875292506/*/1x3CeSqE6ElWa6V7ueNl8FKPFmMoyu4ED?e=download\n",
            "Resolving doc-0s-b8-docs.googleusercontent.com (doc-0s-b8-docs.googleusercontent.com)... 173.194.192.132, 2607:f8b0:4001:c0e::84\n",
            "Connecting to doc-0s-b8-docs.googleusercontent.com (doc-0s-b8-docs.googleusercontent.com)|173.194.192.132|:443... connected.\n",
            "HTTP request sent, awaiting response... 200 OK\n",
            "Length: unspecified [application/octet-stream]\n",
            "Saving to: ‘lastfm_alternative_8b_phrase.npy’\n",
            "\n",
            "lastfm_alternative_     [               <=>  ]   3.30G   141MB/s    in 25s     \n",
            "\n",
            "2018-10-28 06:44:21 (133 MB/s) - ‘lastfm_alternative_8b_phrase.npy’ saved [3547127936]\n",
            "\n"
          ],
          "name": "stdout"
        }
      ]
    },
    {
      "metadata": {
        "id": "ELUfmi5jFsjf",
        "colab_type": "code",
        "colab": {
          "base_uri": "https://localhost:8080/",
          "height": 384
        },
        "outputId": "7353e1c2-aa42-49a9-82d7-78a1057ef8ff"
      },
      "cell_type": "code",
      "source": [
        "filename=\"lastfm_alternative_g_composer_d_proposed.tar.gz\"\n",
        "fileid=\"1QzTL4So-oRWrif4gVKqQM5yQ48y2X5gM\"\n",
        "\n",
        "confirm = !(wget --quiet --save-cookies /tmp/cookies.txt --keep-session-cookies --no-check-certificate \"https://docs.google.com/uc?export=download&id=$fileid\" -O- | sed -rn 's/.*confirm=([0-9A-Za-z_]+).*/\\1\\n/p')\n",
        "\n",
        "!echo $confirm\n",
        "\n",
        "print(confirm)\n",
        "\n",
        "confirm = str(confirm)\n",
        "\n",
        "print(confirm)\n",
        "\n",
        "confirm = confirm[2:-2]\n",
        "\n",
        "!wget -O $filename --load-cookies /tmp/cookies.txt \"https://docs.google.com/uc?export=download&confirm=$confirm&id=$fileid\"\n",
        "\n",
        "!rm -rf /tmp/cookies.txt"
      ],
      "execution_count": 4,
      "outputs": [
        {
          "output_type": "stream",
          "text": [
            "[]\n",
            "[]\n",
            "[]\n",
            "--2018-10-28 06:44:30--  https://docs.google.com/uc?export=download&confirm=&id=1QzTL4So-oRWrif4gVKqQM5yQ48y2X5gM\n",
            "Resolving docs.google.com (docs.google.com)... 209.85.145.138, 209.85.145.100, 209.85.145.113, ...\n",
            "Connecting to docs.google.com (docs.google.com)|209.85.145.138|:443... connected.\n",
            "HTTP request sent, awaiting response... 302 Moved Temporarily\n",
            "Location: https://doc-0c-b8-docs.googleusercontent.com/docs/securesc/ha0ro937gcuc7l7deffksulhg5h7mbp1/k4idhp5lkb8vhg9nn2rl187j637hjc2m/1540706400000/15994423637875292506/*/1QzTL4So-oRWrif4gVKqQM5yQ48y2X5gM?e=download [following]\n",
            "Warning: wildcards not supported in HTTP.\n",
            "--2018-10-28 06:44:33--  https://doc-0c-b8-docs.googleusercontent.com/docs/securesc/ha0ro937gcuc7l7deffksulhg5h7mbp1/k4idhp5lkb8vhg9nn2rl187j637hjc2m/1540706400000/15994423637875292506/*/1QzTL4So-oRWrif4gVKqQM5yQ48y2X5gM?e=download\n",
            "Resolving doc-0c-b8-docs.googleusercontent.com (doc-0c-b8-docs.googleusercontent.com)... 173.194.192.132, 2607:f8b0:4001:c0e::84\n",
            "Connecting to doc-0c-b8-docs.googleusercontent.com (doc-0c-b8-docs.googleusercontent.com)|173.194.192.132|:443... connected.\n",
            "HTTP request sent, awaiting response... 200 OK\n",
            "Length: unspecified [application/x-gzip]\n",
            "Saving to: ‘lastfm_alternative_g_composer_d_proposed.tar.gz’\n",
            "\n",
            "lastfm_alternative_     [   <=>              ]  54.99M   125MB/s    in 0.4s    \n",
            "\n",
            "2018-10-28 06:44:33 (125 MB/s) - ‘lastfm_alternative_g_composer_d_proposed.tar.gz’ saved [57662031]\n",
            "\n"
          ],
          "name": "stdout"
        }
      ]
    },
    {
      "metadata": {
        "id": "xGQWOaFtvWxM",
        "colab_type": "code",
        "colab": {
          "base_uri": "https://localhost:8080/",
          "height": 191
        },
        "outputId": "c60cc436-a5e7-4e63-b423-862571b47ac2"
      },
      "cell_type": "code",
      "source": [
        "!apt-get install p7zip-full\n",
        "!tar -xvf lastfm_alternative_g_composer_d_proposed.tar.gz"
      ],
      "execution_count": 5,
      "outputs": [
        {
          "output_type": "stream",
          "text": [
            "Reading package lists... Done\n",
            "Building dependency tree       \n",
            "Reading state information... Done\n",
            "p7zip-full is already the newest version (16.02+dfsg-6).\n",
            "0 upgraded, 0 newly installed, 0 to remove and 2 not upgraded.\n",
            "lastfm_alternative_g_composer_d_proposed/\n",
            "lastfm_alternative_g_composer_d_proposed/GAN.model-55470.data-00000-of-00001\n",
            "lastfm_alternative_g_composer_d_proposed/GAN.model-55470.index\n",
            "lastfm_alternative_g_composer_d_proposed/GAN.model-55470.meta\n",
            "lastfm_alternative_g_composer_d_proposed/checkpoint\n"
          ],
          "name": "stdout"
        }
      ]
    },
    {
      "metadata": {
        "id": "6e4ldiUYbLxn",
        "colab_type": "code",
        "colab": {}
      },
      "cell_type": "code",
      "source": [
        "!mkdir -p /home/salu133445/NAS/salu133445/git/musegan/exp/musegan/lastfm_alternative_g_composer_d_proposed/checkpoints\n",
        "!mv lastfm_alternative_g_composer_d_proposed /home/salu133445/NAS/salu133445/git/musegan/exp/musegan/lastfm_alternative_g_composer_d_proposed/checkpoints"
      ],
      "execution_count": 0,
      "outputs": []
    },
    {
      "metadata": {
        "id": "h6oelRAySp-v",
        "colab_type": "code",
        "colab": {}
      },
      "cell_type": "code",
      "source": [
        "import sys\n",
        "import os\n",
        "import os.path\n",
        "sys.path.append(\"EmoGAN/musegan\")\n",
        "sys.path.append(\"pypianoroll\")\n",
        "sys.path.append(\"pypianoroll/pypianoroll\")"
      ],
      "execution_count": 0,
      "outputs": []
    },
    {
      "metadata": {
        "id": "BtuwhXnwpDLp",
        "colab_type": "code",
        "colab": {
          "base_uri": "https://localhost:8080/",
          "height": 34
        },
        "outputId": "69b609d8-fdba-4237-d398-a2179c5acd99"
      },
      "cell_type": "code",
      "source": [
        "!ls {checkpoint_dir}"
      ],
      "execution_count": 30,
      "outputs": [
        {
          "output_type": "stream",
          "text": [
            "ls: cannot access '{checkpoint_dir}': No such file or directory\n"
          ],
          "name": "stdout"
        }
      ]
    },
    {
      "metadata": {
        "id": "C5QR9OU72YOM",
        "colab_type": "code",
        "colab": {}
      },
      "cell_type": "code",
      "source": [
        "#!rm lastfm_alternative_g_composer_d_proposed/checkpoint"
      ],
      "execution_count": 0,
      "outputs": []
    },
    {
      "metadata": {
        "id": "m6e4_yGI3HBm",
        "colab_type": "code",
        "colab": {
          "base_uri": "https://localhost:8080/",
          "height": 51
        },
        "outputId": "ab77e57b-d953-4241-c9fc-352a6fbc816c"
      },
      "cell_type": "code",
      "source": [
        "!dir /home/salu133445/NAS/salu133445/git/musegan/exp/musegan/lastfm_alternative_g_composer_d_proposed/checkpoints/lastfm_alternative_g_composer_d_proposed"
      ],
      "execution_count": 33,
      "outputs": [
        {
          "output_type": "stream",
          "text": [
            "checkpoint\t\t\t     GAN.model-55470.index\n",
            "GAN.model-55470.data-00000-of-00001  GAN.model-55470.meta\n"
          ],
          "name": "stdout"
        }
      ]
    },
    {
      "metadata": {
        "id": "eriEkz0IAJMB",
        "colab_type": "code",
        "colab": {
          "base_uri": "https://localhost:8080/",
          "height": 1601
        },
        "outputId": "baed6583-e373-4c65-e9c3-4b67a3a97feb"
      },
      "cell_type": "code",
      "source": [
        "\n",
        "!cd EmoGAN; git pull\n",
        "!chmod u+x ./EmoGAN/scripts/run_inference.sh\n",
        "!chmod u+x ./EmoGAN/scripts/download_models.sh\n",
        "!cd EmoGAN; ./scripts/download_models.sh\n",
        "!cd EmoGAN; ./scripts/run_inference.sh \"./exp/default/\" \"0\""
      ],
      "execution_count": 53,
      "outputs": [
        {
          "output_type": "stream",
          "text": [
            "Already up to date.\n",
            "--2018-10-28 09:44:03--  https://docs.google.com/uc?export=download&confirm=7vy6&id=17qJ6jDElLMukwQBZjDEnJctpkyDsd09g\n",
            "Resolving docs.google.com (docs.google.com)... 173.194.192.102, 173.194.192.113, 173.194.192.100, ...\n",
            "Connecting to docs.google.com (docs.google.com)|173.194.192.102|:443... connected.\n",
            "HTTP request sent, awaiting response... 302 Moved Temporarily\n",
            "Location: https://doc-14-b8-docs.googleusercontent.com/docs/securesc/ha0ro937gcuc7l7deffksulhg5h7mbp1/i97cvc81cf45lqg5n05aq3dmiuum4nda/1540713600000/15994423637875292506/*/17qJ6jDElLMukwQBZjDEnJctpkyDsd09g?e=download [following]\n",
            "Warning: wildcards not supported in HTTP.\n",
            "--2018-10-28 09:44:03--  https://doc-14-b8-docs.googleusercontent.com/docs/securesc/ha0ro937gcuc7l7deffksulhg5h7mbp1/i97cvc81cf45lqg5n05aq3dmiuum4nda/1540713600000/15994423637875292506/*/17qJ6jDElLMukwQBZjDEnJctpkyDsd09g?e=download\n",
            "Resolving doc-14-b8-docs.googleusercontent.com (doc-14-b8-docs.googleusercontent.com)... 173.194.192.132, 2607:f8b0:4001:c0e::84\n",
            "Connecting to doc-14-b8-docs.googleusercontent.com (doc-14-b8-docs.googleusercontent.com)|173.194.192.132|:443... connected.\n",
            "HTTP request sent, awaiting response... 200 OK\n",
            "Length: unspecified [application/gzip]\n",
            "Saving to: ‘/content/EmoGAN/scripts/../exp/pretrained_models.tar.gz’\n",
            "\n",
            "/content/EmoGAN/scr     [     <=>            ] 127.31M  66.0MB/s    in 1.9s    \n",
            "\n",
            "2018-10-28 09:44:05 (66.0 MB/s) - ‘/content/EmoGAN/scripts/../exp/pretrained_models.tar.gz’ saved [133499820]\n",
            "\n",
            "Decompressing archive.\n",
            "Successfully decompressed.\n",
            "musegan.inference    INFO     Using parameters:\n",
            "{'beat_resolution': 12,\n",
            " 'data_shape': [4, 48, 84, 5],\n",
            " 'is_conditional': False,\n",
            " 'latent_dim': 128,\n",
            " 'nets': {'discriminator': 'default', 'generator': 'default'},\n",
            " 'use_binary_neurons': False}\n",
            "musegan.inference    INFO     Using configurations:\n",
            "{'adam': {'beta1': 0.5, 'beta2': 0.9},\n",
            " 'batch_size': 64,\n",
            " 'checkpoint_dir': './exp/default//model',\n",
            " 'colormap': [[1.0, 0.0, 0.0],\n",
            "              [1.0, 0.5, 0.0],\n",
            "              [0.0, 1.0, 0.0],\n",
            "              [0.0, 0.0, 1.0],\n",
            "              [0.0, 0.5, 1.0]],\n",
            " 'columns': 5,\n",
            " 'config': './exp/default//config.yaml',\n",
            " 'data_filename': 'train_x_lpd_5_phr',\n",
            " 'data_root': None,\n",
            " 'data_source': 'sa',\n",
            " 'evaluate_steps': 100,\n",
            " 'gan_loss_type': 'wasserstein',\n",
            " 'gpu': '0',\n",
            " 'initial_learning_rate': 0.001,\n",
            " 'learning_rate_schedule': {'end': 50000, 'end_value': 0.0, 'start': 45000},\n",
            " 'log_loss_steps': 100,\n",
            " 'lower': -2,\n",
            " 'midi': {'is_drums': [1, 0, 0, 0, 0],\n",
            "          'lowest_pitch': 24,\n",
            "          'programs': [0, 0, 25, 33, 48],\n",
            "          'tempo': 100},\n",
            " 'n_dis_updates_per_gen_update': 5,\n",
            " 'n_jobs': 20,\n",
            " 'params': './exp/default//params.yaml',\n",
            " 'result_dir': './exp/default//results/inference',\n",
            " 'rows': 5,\n",
            " 'runs': 10,\n",
            " 'sample_grid': [8, 8],\n",
            " 'save_array_samples': True,\n",
            " 'save_checkpoint_steps': 10000,\n",
            " 'save_image_samples': True,\n",
            " 'save_pianoroll_samples': True,\n",
            " 'save_samples_steps': 100,\n",
            " 'save_summaries_steps': 0,\n",
            " 'slope_schedule': {'end': 50000, 'end_value': 5.0, 'start': 10000},\n",
            " 'steps': 50000,\n",
            " 'upper': 2,\n",
            " 'use_gradient_penalties': True,\n",
            " 'use_learning_rate_decay': True,\n",
            " 'use_random_transpose': False,\n",
            " 'use_slope_annealing': False,\n",
            " 'use_train_test_split': False}\n",
            "musegan.model        INFO     Building model.\n",
            "musegan.model        INFO     Building training nodes.\n",
            "musegan.model        INFO     Building losses.\n",
            "musegan.model        INFO     Building training ops.\n",
            "musegan.model        INFO     Building summaries.\n",
            "musegan.model        INFO     Building prediction nodes.\n",
            "2018-10-28 09:44:28.613410: I tensorflow/stream_executor/cuda/cuda_gpu_executor.cc:964] successful NUMA node read from SysFS had negative value (-1), but there must be at least one NUMA node, so returning NUMA node zero\n",
            "2018-10-28 09:44:28.613923: I tensorflow/core/common_runtime/gpu/gpu_device.cc:1432] Found device 0 with properties: \n",
            "name: Tesla K80 major: 3 minor: 7 memoryClockRate(GHz): 0.8235\n",
            "pciBusID: 0000:00:04.0\n",
            "totalMemory: 11.17GiB freeMemory: 11.10GiB\n",
            "2018-10-28 09:44:28.613980: I tensorflow/core/common_runtime/gpu/gpu_device.cc:1511] Adding visible gpu devices: 0\n",
            "2018-10-28 09:44:29.039215: I tensorflow/core/common_runtime/gpu/gpu_device.cc:982] Device interconnect StreamExecutor with strength 1 edge matrix:\n",
            "2018-10-28 09:44:29.039278: I tensorflow/core/common_runtime/gpu/gpu_device.cc:988]      0 \n",
            "2018-10-28 09:44:29.039314: I tensorflow/core/common_runtime/gpu/gpu_device.cc:1001] 0:   N \n",
            "2018-10-28 09:44:29.039630: I tensorflow/core/common_runtime/gpu/gpu_device.cc:1115] Created TensorFlow device (/job:localhost/replica:0/task:0/device:GPU:0 with 10758 MB memory) -> physical GPU (device: 0, name: Tesla K80, pci bus id: 0000:00:04.0, compute capability: 3.7)\n",
            "musegan.inference    INFO     Restoring the latest checkpoint.\n",
            "INFO:tensorflow:Restoring parameters from /content/EmoGAN/exp/default/model/model.ckpt-300450\n",
            "tensorflow           INFO     Restoring parameters from /content/EmoGAN/exp/default/model/model.ckpt-300450\n"
          ],
          "name": "stdout"
        }
      ]
    },
    {
      "metadata": {
        "id": "K3QW0L57heO0",
        "colab_type": "code",
        "colab": {
          "base_uri": "https://localhost:8080/",
          "height": 51
        },
        "outputId": "02e98a6c-e447-4f18-bd41-5f4afa08489d"
      },
      "cell_type": "code",
      "source": [
        "!dir ./EmoGAN"
      ],
      "execution_count": 39,
      "outputs": [
        {
          "output_type": "stream",
          "text": [
            "config.py  LICENSE.txt\tmusegan        pretrained   README.md\t   v1\n",
            "docs\t   main.py\tMuseGAN.ipynb  __pycache__  training_data\n"
          ],
          "name": "stdout"
        }
      ]
    },
    {
      "metadata": {
        "id": "Y-AwXf3r9bw_",
        "colab_type": "code",
        "colab": {}
      },
      "cell_type": "code",
      "source": [
        "\n",
        "from google.colab import files\n",
        "import os\n",
        "for filename in os.listdir(\"checkpoints\"):\n",
        "    files.download(\"checkpoints/\"+str(filename))"
      ],
      "execution_count": 0,
      "outputs": []
    },
    {
      "metadata": {
        "id": "u1ZpgqoIAOFd",
        "colab_type": "code",
        "colab": {}
      },
      "cell_type": "code",
      "source": [
        ""
      ],
      "execution_count": 0,
      "outputs": []
    }
  ]
}