{
  "nbformat": 4,
  "nbformat_minor": 0,
  "metadata": {
    "colab": {
      "name": "MuseGANv1.ipynb",
      "version": "0.3.2",
      "provenance": [],
      "collapsed_sections": [],
      "toc_visible": true,
      "include_colab_link": true
    },
    "kernelspec": {
      "name": "python3",
      "display_name": "Python 3"
    },
    "accelerator": "GPU"
  },
  "cells": [
    {
      "cell_type": "markdown",
      "metadata": {
        "id": "view-in-github",
        "colab_type": "text"
      },
      "source": [
        "<a href=\"https://colab.research.google.com/github/aaronrmm/EmoGAN/blob/master/MuseGANv1.ipynb\" target=\"_parent\"><img src=\"https://colab.research.google.com/assets/colab-badge.svg\" alt=\"Open In Colab\"/></a>"
      ]
    },
    {
      "metadata": {
        "id": "Gc7LuLBMPHTD",
        "colab_type": "text"
      },
      "cell_type": "markdown",
      "source": [
        "#Install libs"
      ]
    },
    {
      "metadata": {
        "id": "2hcfX_3KsSe-",
        "colab_type": "code",
        "outputId": "f821d239-213e-4186-adc9-5a140211161b",
        "colab": {
          "base_uri": "https://localhost:8080/",
          "height": 136
        }
      },
      "cell_type": "code",
      "source": [
        "!git clone https://github.com/aaronrmm/EmoGAN.git"
      ],
      "execution_count": 0,
      "outputs": [
        {
          "output_type": "stream",
          "text": [
            "Cloning into 'EmoGAN'...\n",
            "remote: Enumerating objects: 27, done.\u001b[K\n",
            "remote: Counting objects: 100% (27/27), done.\u001b[K\n",
            "remote: Compressing objects: 100% (22/22), done.\u001b[K\n",
            "remote: Total 1793 (delta 12), reused 16 (delta 5), pack-reused 1766\u001b[K\n",
            "Receiving objects: 100% (1793/1793), 57.59 MiB | 25.84 MiB/s, done.\n",
            "Resolving deltas: 100% (952/952), done.\n"
          ],
          "name": "stdout"
        }
      ]
    },
    {
      "metadata": {
        "id": "XyuhxZYr6ulT",
        "colab_type": "code",
        "outputId": "75c4ee76-d8f0-4524-c3af-ce9ba2f4223e",
        "colab": {
          "base_uri": "https://localhost:8080/",
          "height": 853
        }
      },
      "cell_type": "code",
      "source": [
        "\n",
        "!pip install pypianoroll\n",
        "!git clone https://github.com/salu133445/pypianoroll.git\n",
        "!pip install pretty_midi\n",
        "!pip install imageio\n",
        "!cd EmoGAN; git pull"
      ],
      "execution_count": 0,
      "outputs": [
        {
          "output_type": "stream",
          "text": [
            "Collecting pypianoroll\n",
            "  Downloading https://files.pythonhosted.org/packages/aa/33/fa38c07909e425add987146cb0f8d5ad80262f6a72cc820bf7e5f690d527/pypianoroll-0.5.0.tar.gz\n",
            "Requirement already satisfied: six<2.0,>=1.0.0 in /usr/local/lib/python3.6/dist-packages (from pypianoroll) (1.11.0)\n",
            "Requirement already satisfied: numpy<2.0,>=1.10.0 in /usr/local/lib/python3.6/dist-packages (from pypianoroll) (1.14.6)\n",
            "Collecting scipy<2.0,>=1.0.0 (from pypianoroll)\n",
            "\u001b[?25l  Downloading https://files.pythonhosted.org/packages/a8/0b/f163da98d3a01b3e0ef1cab8dd2123c34aee2bafbb1c5bffa354cc8a1730/scipy-1.1.0-cp36-cp36m-manylinux1_x86_64.whl (31.2MB)\n",
            "\u001b[K    100% |████████████████████████████████| 31.2MB 548kB/s \n",
            "\u001b[?25hCollecting pretty_midi<1.0,>=0.2.8 (from pypianoroll)\n",
            "\u001b[?25l  Downloading https://files.pythonhosted.org/packages/31/82/ee67696b85ca3be267c67a46595545e719eec677dcd94e3cf827db833fb8/pretty_midi-0.2.8.tar.gz (5.6MB)\n",
            "\u001b[K    100% |████████████████████████████████| 5.6MB 8.9MB/s \n",
            "\u001b[?25hCollecting mido>=1.1.16 (from pretty_midi<1.0,>=0.2.8->pypianoroll)\n",
            "\u001b[?25l  Downloading https://files.pythonhosted.org/packages/20/0a/81beb587b1ae832ea6a1901dc7c6faa380e8dd154e0a862f0a9f3d2afab9/mido-1.2.9-py2.py3-none-any.whl (52kB)\n",
            "\u001b[K    100% |████████████████████████████████| 61kB 22.6MB/s \n",
            "\u001b[?25hBuilding wheels for collected packages: pypianoroll, pretty-midi\n",
            "  Running setup.py bdist_wheel for pypianoroll ... \u001b[?25l-\b \bdone\n",
            "\u001b[?25h  Stored in directory: /root/.cache/pip/wheels/ed/f6/fb/5d070524ecf7ba9ed201247a293c01945cfd7f840f8ef338c0\n",
            "  Running setup.py bdist_wheel for pretty-midi ... \u001b[?25l-\b \b\\\b \b|\b \bdone\n",
            "\u001b[?25h  Stored in directory: /root/.cache/pip/wheels/22/e7/6b/70eb5879f7dbcb4f44fee735a61d6298f9e082be8538b52422\n",
            "Successfully built pypianoroll pretty-midi\n",
            "Installing collected packages: scipy, mido, pretty-midi, pypianoroll\n",
            "  Found existing installation: scipy 0.19.1\n",
            "    Uninstalling scipy-0.19.1:\n",
            "      Successfully uninstalled scipy-0.19.1\n",
            "Successfully installed mido-1.2.9 pretty-midi-0.2.8 pypianoroll-0.5.0 scipy-1.1.0\n",
            "Cloning into 'pypianoroll'...\n",
            "remote: Enumerating objects: 33, done.\u001b[K\n",
            "remote: Counting objects: 100% (33/33), done.\u001b[K\n",
            "remote: Compressing objects: 100% (22/22), done.\u001b[K\n",
            "remote: Total 1534 (delta 16), reused 25 (delta 11), pack-reused 1501\u001b[K\n",
            "Receiving objects: 100% (1534/1534), 3.62 MiB | 7.02 MiB/s, done.\n",
            "Resolving deltas: 100% (1028/1028), done.\n",
            "Requirement already satisfied: pretty_midi in /usr/local/lib/python3.6/dist-packages (0.2.8)\n",
            "Requirement already satisfied: numpy>=1.7.0 in /usr/local/lib/python3.6/dist-packages (from pretty_midi) (1.14.6)\n",
            "Requirement already satisfied: six in /usr/local/lib/python3.6/dist-packages (from pretty_midi) (1.11.0)\n",
            "Requirement already satisfied: mido>=1.1.16 in /usr/local/lib/python3.6/dist-packages (from pretty_midi) (1.2.9)\n",
            "Collecting imageio\n",
            "\u001b[?25l  Downloading https://files.pythonhosted.org/packages/28/b4/cbb592964dfd71a9de6a5b08f882fd334fb99ae09ddc82081dbb2f718c81/imageio-2.4.1.tar.gz (3.3MB)\n",
            "\u001b[K    100% |████████████████████████████████| 3.3MB 10.7MB/s \n",
            "\u001b[?25hRequirement already satisfied: numpy in /usr/local/lib/python3.6/dist-packages (from imageio) (1.14.6)\n",
            "Requirement already satisfied: pillow in /usr/local/lib/python3.6/dist-packages (from imageio) (4.0.0)\n",
            "Requirement already satisfied: olefile in /usr/local/lib/python3.6/dist-packages (from pillow->imageio) (0.46)\n",
            "Building wheels for collected packages: imageio\n",
            "  Running setup.py bdist_wheel for imageio ... \u001b[?25l-\b \b\\\b \b|\b \b/\b \bdone\n",
            "\u001b[?25h  Stored in directory: /root/.cache/pip/wheels/e0/43/31/605de9372ceaf657f152d3d5e82f42cf265d81db8bbe63cde1\n",
            "Successfully built imageio\n",
            "Installing collected packages: imageio\n",
            "Successfully installed imageio-2.4.1\n",
            "Already up to date.\n"
          ],
          "name": "stdout"
        }
      ]
    },
    {
      "metadata": {
        "id": "7-nHgPnwJab-",
        "colab_type": "text"
      },
      "cell_type": "markdown",
      "source": [
        "# Download Training Data"
      ]
    },
    {
      "metadata": {
        "id": "CbuHDciPUCyF",
        "colab_type": "code",
        "outputId": "f49c6f28-2555-4372-9909-c50aa199e7a7",
        "colab": {
          "base_uri": "https://localhost:8080/",
          "height": 377
        }
      },
      "cell_type": "code",
      "source": [
        "filename=\"lastfm_alternative_8b_phrase.npy\"\n",
        "fileid=\"1x3CeSqE6ElWa6V7ueNl8FKPFmMoyu4ED\"\n",
        "\n",
        "confirm = !(wget --quiet --save-cookies /tmp/cookies.txt --keep-session-cookies --no-check-certificate \"https://docs.google.com/uc?export=download&id=$fileid\" -O- | sed -rn 's/.*confirm=([0-9A-Za-z_]+).*/\\1\\n/p')\n",
        "\n",
        "!echo $confirm\n",
        "\n",
        "print(confirm)\n",
        "\n",
        "confirm = str(confirm)\n",
        "\n",
        "print(confirm)\n",
        "\n",
        "confirm = confirm[2:-2]\n",
        "\n",
        "!wget -O $filename --load-cookies /tmp/cookies.txt \"https://docs.google.com/uc?export=download&confirm=$confirm&id=$fileid\"\n",
        "\n",
        "!rm -rf /tmp/cookies.txt\n",
        "\n"
      ],
      "execution_count": 0,
      "outputs": [
        {
          "output_type": "stream",
          "text": [
            "[vNOM]\n",
            "['vNOM']\n",
            "['vNOM']\n",
            "--2018-11-01 02:53:00--  https://docs.google.com/uc?export=download&confirm=vNOM&id=1x3CeSqE6ElWa6V7ueNl8FKPFmMoyu4ED\n",
            "Resolving docs.google.com (docs.google.com)... 64.233.166.113, 64.233.166.100, 64.233.166.102, ...\n",
            "Connecting to docs.google.com (docs.google.com)|64.233.166.113|:443... connected.\n",
            "HTTP request sent, awaiting response... 302 Moved Temporarily\n",
            "Location: https://doc-0s-b8-docs.googleusercontent.com/docs/securesc/ha0ro937gcuc7l7deffksulhg5h7mbp1/u6gupae6k3losv2djh4u9e4v3el0fg5i/1541037600000/15994423637875292506/*/1x3CeSqE6ElWa6V7ueNl8FKPFmMoyu4ED?e=download [following]\n",
            "Warning: wildcards not supported in HTTP.\n",
            "--2018-11-01 02:53:00--  https://doc-0s-b8-docs.googleusercontent.com/docs/securesc/ha0ro937gcuc7l7deffksulhg5h7mbp1/u6gupae6k3losv2djh4u9e4v3el0fg5i/1541037600000/15994423637875292506/*/1x3CeSqE6ElWa6V7ueNl8FKPFmMoyu4ED?e=download\n",
            "Resolving doc-0s-b8-docs.googleusercontent.com (doc-0s-b8-docs.googleusercontent.com)... 108.177.15.132, 2a00:1450:400c:c0c::84\n",
            "Connecting to doc-0s-b8-docs.googleusercontent.com (doc-0s-b8-docs.googleusercontent.com)|108.177.15.132|:443... connected.\n",
            "HTTP request sent, awaiting response... 200 OK\n",
            "Length: unspecified [application/octet-stream]\n",
            "Saving to: ‘lastfm_alternative_8b_phrase.npy’\n",
            "\n",
            "lastfm_alternative_     [               <=>  ]   3.30G   146MB/s    in 25s     \n",
            "\n",
            "2018-11-01 02:53:26 (134 MB/s) - ‘lastfm_alternative_8b_phrase.npy’ saved [3547127936]\n",
            "\n"
          ],
          "name": "stdout"
        }
      ]
    },
    {
      "metadata": {
        "id": "v340JFtDzKof",
        "colab_type": "text"
      },
      "cell_type": "markdown",
      "source": [
        "#Download pretrained model"
      ]
    },
    {
      "metadata": {
        "id": "ELUfmi5jFsjf",
        "colab_type": "code",
        "outputId": "0390a638-ea0b-4546-8fe2-ce8cd7be5bf7",
        "colab": {
          "base_uri": "https://localhost:8080/",
          "height": 377
        }
      },
      "cell_type": "code",
      "source": [
        "filename=\"lastfm_alternative_g_composer_d_proposed.tar.gz\"\n",
        "fileid=\"1QzTL4So-oRWrif4gVKqQM5yQ48y2X5gM\"\n",
        "\n",
        "confirm = !(wget --quiet --save-cookies /tmp/cookies.txt --keep-session-cookies --no-check-certificate \"https://docs.google.com/uc?export=download&id=$fileid\" -O- | sed -rn 's/.*confirm=([0-9A-Za-z_]+).*/\\1\\n/p')\n",
        "\n",
        "!echo $confirm\n",
        "\n",
        "print(confirm)\n",
        "\n",
        "confirm = str(confirm)\n",
        "\n",
        "print(confirm)\n",
        "\n",
        "confirm = confirm[2:-2]\n",
        "\n",
        "!wget -O $filename --load-cookies /tmp/cookies.txt \"https://docs.google.com/uc?export=download&confirm=$confirm&id=$fileid\"\n",
        "\n",
        "!rm -rf /tmp/cookies.txt"
      ],
      "execution_count": 0,
      "outputs": [
        {
          "output_type": "stream",
          "text": [
            "[]\n",
            "[]\n",
            "[]\n",
            "--2018-11-01 02:53:38--  https://docs.google.com/uc?export=download&confirm=&id=1QzTL4So-oRWrif4gVKqQM5yQ48y2X5gM\n",
            "Resolving docs.google.com (docs.google.com)... 64.233.166.113, 64.233.166.100, 64.233.166.102, ...\n",
            "Connecting to docs.google.com (docs.google.com)|64.233.166.113|:443... connected.\n",
            "HTTP request sent, awaiting response... 302 Moved Temporarily\n",
            "Location: https://doc-0c-b8-docs.googleusercontent.com/docs/securesc/ha0ro937gcuc7l7deffksulhg5h7mbp1/8astd0aevq8v3l8g18fls7ab74lk9l92/1541037600000/15994423637875292506/*/1QzTL4So-oRWrif4gVKqQM5yQ48y2X5gM?e=download [following]\n",
            "Warning: wildcards not supported in HTTP.\n",
            "--2018-11-01 02:53:42--  https://doc-0c-b8-docs.googleusercontent.com/docs/securesc/ha0ro937gcuc7l7deffksulhg5h7mbp1/8astd0aevq8v3l8g18fls7ab74lk9l92/1541037600000/15994423637875292506/*/1QzTL4So-oRWrif4gVKqQM5yQ48y2X5gM?e=download\n",
            "Resolving doc-0c-b8-docs.googleusercontent.com (doc-0c-b8-docs.googleusercontent.com)... 108.177.15.132, 2a00:1450:400c:c0c::84\n",
            "Connecting to doc-0c-b8-docs.googleusercontent.com (doc-0c-b8-docs.googleusercontent.com)|108.177.15.132|:443... connected.\n",
            "HTTP request sent, awaiting response... 200 OK\n",
            "Length: unspecified [application/x-gzip]\n",
            "Saving to: ‘lastfm_alternative_g_composer_d_proposed.tar.gz’\n",
            "\n",
            "lastfm_alternative_     [  <=>               ]  54.99M   150MB/s    in 0.4s    \n",
            "\n",
            "2018-11-01 02:53:43 (150 MB/s) - ‘lastfm_alternative_g_composer_d_proposed.tar.gz’ saved [57662031]\n",
            "\n"
          ],
          "name": "stdout"
        }
      ]
    },
    {
      "metadata": {
        "id": "xGQWOaFtvWxM",
        "colab_type": "code",
        "outputId": "34bf4661-9bd5-4c6f-d899-d5830d463d22",
        "colab": {
          "base_uri": "https://localhost:8080/",
          "height": 187
        }
      },
      "cell_type": "code",
      "source": [
        "!apt-get install p7zip-full\n",
        "!tar -xvf lastfm_alternative_g_composer_d_proposed.tar.gz"
      ],
      "execution_count": 0,
      "outputs": [
        {
          "output_type": "stream",
          "text": [
            "Reading package lists... Done\n",
            "Building dependency tree       \n",
            "Reading state information... Done\n",
            "p7zip-full is already the newest version (16.02+dfsg-6).\n",
            "0 upgraded, 0 newly installed, 0 to remove and 3 not upgraded.\n",
            "lastfm_alternative_g_composer_d_proposed/\n",
            "lastfm_alternative_g_composer_d_proposed/GAN.model-55470.data-00000-of-00001\n",
            "lastfm_alternative_g_composer_d_proposed/GAN.model-55470.index\n",
            "lastfm_alternative_g_composer_d_proposed/GAN.model-55470.meta\n",
            "lastfm_alternative_g_composer_d_proposed/checkpoint\n"
          ],
          "name": "stdout"
        }
      ]
    },
    {
      "metadata": {
        "id": "6e4ldiUYbLxn",
        "colab_type": "code",
        "colab": {}
      },
      "cell_type": "code",
      "source": [
        "!mkdir -p /home/salu133445/NAS/salu133445/git/musegan/exp/musegan/lastfm_alternative_g_composer_d_proposed/checkpoints\n",
        "!mv lastfm_alternative_g_composer_d_proposed /home/salu133445/NAS/salu133445/git/musegan/exp/musegan/lastfm_alternative_g_composer_d_proposed/checkpoints"
      ],
      "execution_count": 0,
      "outputs": []
    },
    {
      "metadata": {
        "id": "5PC7DOpozRGD",
        "colab_type": "text"
      },
      "cell_type": "markdown",
      "source": [
        "#Run generation of pianorolls"
      ]
    },
    {
      "metadata": {
        "id": "h6oelRAySp-v",
        "colab_type": "code",
        "colab": {}
      },
      "cell_type": "code",
      "source": [
        "import sys\n",
        "import os\n",
        "import os.path\n",
        "sys.path.append(\"EmoGAN/musegan\")\n",
        "sys.path.append(\"pypianoroll\")\n",
        "sys.path.append(\"pypianoroll/pypianoroll\")"
      ],
      "execution_count": 0,
      "outputs": []
    },
    {
      "metadata": {
        "id": "eriEkz0IAJMB",
        "colab_type": "code",
        "outputId": "ddb54f2b-ce28-4651-f3fe-1f303db23464",
        "colab": {
          "base_uri": "https://localhost:8080/",
          "height": 7398
        }
      },
      "cell_type": "code",
      "source": [
        "!pip install librosa\n",
        "!pip install sharedarray\n",
        "!cd EmoGAN; git pull\n",
        "!python EmoGAN/v1/main.py"
      ],
      "execution_count": 0,
      "outputs": [
        {
          "output_type": "stream",
          "text": [
            "Requirement already satisfied: librosa in /usr/local/lib/python3.6/dist-packages (0.6.2)\n",
            "Requirement already satisfied: numpy>=1.8.0 in /usr/local/lib/python3.6/dist-packages (from librosa) (1.14.6)\n",
            "Requirement already satisfied: resampy>=0.2.0 in /usr/local/lib/python3.6/dist-packages (from librosa) (0.2.1)\n",
            "Requirement already satisfied: joblib>=0.12 in /usr/local/lib/python3.6/dist-packages (from librosa) (0.12.5)\n",
            "Requirement already satisfied: numba>=0.38.0 in /usr/local/lib/python3.6/dist-packages (from librosa) (0.40.1)\n",
            "Requirement already satisfied: six>=1.3 in /usr/local/lib/python3.6/dist-packages (from librosa) (1.11.0)\n",
            "Requirement already satisfied: audioread>=2.0.0 in /usr/local/lib/python3.6/dist-packages (from librosa) (2.1.6)\n",
            "Requirement already satisfied: scikit-learn!=0.19.0,>=0.14.0 in /usr/local/lib/python3.6/dist-packages (from librosa) (0.19.2)\n",
            "Requirement already satisfied: decorator>=3.0.0 in /usr/local/lib/python3.6/dist-packages (from librosa) (4.3.0)\n",
            "Requirement already satisfied: scipy>=0.14.0 in /usr/local/lib/python3.6/dist-packages (from librosa) (1.1.0)\n",
            "Requirement already satisfied: llvmlite>=0.25.0dev0 in /usr/local/lib/python3.6/dist-packages (from numba>=0.38.0->librosa) (0.25.0)\n",
            "Collecting sharedarray\n",
            "  Downloading https://files.pythonhosted.org/packages/cf/58/da95daa37d635e3094eb56ac655a22ea95b4236e166278e9f07ff444712a/SharedArray-3.1.0.tar.gz\n",
            "Requirement already satisfied: numpy in /usr/local/lib/python3.6/dist-packages (from sharedarray) (1.14.6)\n",
            "Building wheels for collected packages: sharedarray\n",
            "  Running setup.py bdist_wheel for sharedarray ... \u001b[?25l-\b \b\\\b \b|\b \b/\b \b-\b \b\\\b \b|\b \b/\b \b-\b \b\\\b \bdone\n",
            "\u001b[?25h  Stored in directory: /root/.cache/pip/wheels/ba/6f/37/b4575b3daa7340b720674090f52d77bbd928be6a666a7ddae6\n",
            "Successfully built sharedarray\n",
            "Installing collected packages: sharedarray\n",
            "Successfully installed sharedarray-3.1.0\n",
            "Already up to date.\n",
            "[*] config...\n",
            "2018-11-01 03:09:22.298956: E tensorflow/stream_executor/cuda/cuda_driver.cc:300] failed call to cuInit: CUDA_ERROR_NO_DEVICE: no CUDA-capable device is detected\n",
            "2018-11-01 03:09:22.299043: I tensorflow/stream_executor/cuda/cuda_diagnostics.cc:163] retrieving CUDA diagnostic information for host: 75687ccba3e5\n",
            "2018-11-01 03:09:22.299086: I tensorflow/stream_executor/cuda/cuda_diagnostics.cc:170] hostname: 75687ccba3e5\n",
            "2018-11-01 03:09:22.299174: I tensorflow/stream_executor/cuda/cuda_diagnostics.cc:194] libcuda reported version is: 396.44.0\n",
            "2018-11-01 03:09:22.299240: I tensorflow/stream_executor/cuda/cuda_diagnostics.cc:198] kernel reported version is: 396.44.0\n",
            "2018-11-01 03:09:22.299267: I tensorflow/stream_executor/cuda/cuda_diagnostics.cc:305] kernel version seems to match DSO: 396.44.0\n",
            "|   |---TemporalHybrid/G/PG/h1 False\n",
            "|   |---TemporalHybrid/G/PG/h2 False\n",
            "WARNING:tensorflow:From /content/EmoGAN/v1/musegan/components.py:367: calling squeeze (from tensorflow.python.ops.array_ops) with squeeze_dims is deprecated and will be removed in a future version.\n",
            "Instructions for updating:\n",
            "Use the `axis` argument instead\n",
            "|   |---TemporalHybrid/G/PG/h1 True\n",
            "|   |---TemporalHybrid/G/PG/h2 True\n",
            "|   |---TemporalHybrid/G/PG/h1 True\n",
            "|   |---TemporalHybrid/G/PG/h2 True\n",
            "|   |---TemporalHybrid/G/PG/h1 True\n",
            "|   |---TemporalHybrid/G/PG/h2 True\n",
            "|   |---TemporalHybrid/G/PG/h1 True\n",
            "|   |---TemporalHybrid/G/PG/h2 True\n",
            "|   |---TemporalHybrid/G/PG/h1 True\n",
            "|   |---TemporalHybrid/G/PG/h2 True\n",
            "KKKKKKKKKKKKKKKKKKKK 0\n",
            "|   |---TemporalHybrid/G/bass/BG/h0 False\n",
            "|   |---TemporalHybrid/G/bass/BG/h1 False\n",
            "|   |---TemporalHybrid/G/bass/BG/h2 False\n",
            "|   |---TemporalHybrid/G/bass/BG/h3 False\n",
            "|   |---TemporalHybrid/G/bass/BG/h4 False\n",
            "|   |---TemporalHybrid/G/bass/BG/h5 False\n",
            "|   |---TemporalHybrid/G/bass/BG/h6 False\n",
            "|   |---TemporalHybrid/G/bass/BG/h7 False\n",
            "KKKKKKKKKKKKKKKKKKKK 0\n",
            "|   |---TemporalHybrid/G/drums/BG/h0 False\n",
            "|   |---TemporalHybrid/G/drums/BG/h1 False\n",
            "|   |---TemporalHybrid/G/drums/BG/h2 False\n",
            "|   |---TemporalHybrid/G/drums/BG/h3 False\n",
            "|   |---TemporalHybrid/G/drums/BG/h4 False\n",
            "|   |---TemporalHybrid/G/drums/BG/h5 False\n",
            "|   |---TemporalHybrid/G/drums/BG/h6 False\n",
            "|   |---TemporalHybrid/G/drums/BG/h7 False\n",
            "KKKKKKKKKKKKKKKKKKKK 0\n",
            "|   |---TemporalHybrid/G/guitar/BG/h0 False\n",
            "|   |---TemporalHybrid/G/guitar/BG/h1 False\n",
            "|   |---TemporalHybrid/G/guitar/BG/h2 False\n",
            "|   |---TemporalHybrid/G/guitar/BG/h3 False\n",
            "|   |---TemporalHybrid/G/guitar/BG/h4 False\n",
            "|   |---TemporalHybrid/G/guitar/BG/h5 False\n",
            "|   |---TemporalHybrid/G/guitar/BG/h6 False\n",
            "|   |---TemporalHybrid/G/guitar/BG/h7 False\n",
            "KKKKKKKKKKKKKKKKKKKK 0\n",
            "|   |---TemporalHybrid/G/piano/BG/h0 False\n",
            "|   |---TemporalHybrid/G/piano/BG/h1 False\n",
            "|   |---TemporalHybrid/G/piano/BG/h2 False\n",
            "|   |---TemporalHybrid/G/piano/BG/h3 False\n",
            "|   |---TemporalHybrid/G/piano/BG/h4 False\n",
            "|   |---TemporalHybrid/G/piano/BG/h5 False\n",
            "|   |---TemporalHybrid/G/piano/BG/h6 False\n",
            "|   |---TemporalHybrid/G/piano/BG/h7 False\n",
            "KKKKKKKKKKKKKKKKKKKK 0\n",
            "|   |---TemporalHybrid/G/strings/BG/h0 False\n",
            "|   |---TemporalHybrid/G/strings/BG/h1 False\n",
            "|   |---TemporalHybrid/G/strings/BG/h2 False\n",
            "|   |---TemporalHybrid/G/strings/BG/h3 False\n",
            "|   |---TemporalHybrid/G/strings/BG/h4 False\n",
            "|   |---TemporalHybrid/G/strings/BG/h5 False\n",
            "|   |---TemporalHybrid/G/strings/BG/h6 False\n",
            "|   |---TemporalHybrid/G/strings/BG/h7 False\n",
            "KKKKKKKKKKKKKKKKKKKK 0\n",
            "|   |---TemporalHybrid/G/bass/BG/h0 True\n",
            "|   |---TemporalHybrid/G/bass/BG/h1 True\n",
            "|   |---TemporalHybrid/G/bass/BG/h2 True\n",
            "|   |---TemporalHybrid/G/bass/BG/h3 True\n",
            "|   |---TemporalHybrid/G/bass/BG/h4 True\n",
            "|   |---TemporalHybrid/G/bass/BG/h5 True\n",
            "|   |---TemporalHybrid/G/bass/BG/h6 True\n",
            "|   |---TemporalHybrid/G/bass/BG/h7 True\n",
            "KKKKKKKKKKKKKKKKKKKK 0\n",
            "|   |---TemporalHybrid/G/drums/BG/h0 True\n",
            "|   |---TemporalHybrid/G/drums/BG/h1 True\n",
            "|   |---TemporalHybrid/G/drums/BG/h2 True\n",
            "|   |---TemporalHybrid/G/drums/BG/h3 True\n",
            "|   |---TemporalHybrid/G/drums/BG/h4 True\n",
            "|   |---TemporalHybrid/G/drums/BG/h5 True\n",
            "|   |---TemporalHybrid/G/drums/BG/h6 True\n",
            "|   |---TemporalHybrid/G/drums/BG/h7 True\n",
            "KKKKKKKKKKKKKKKKKKKK 0\n",
            "|   |---TemporalHybrid/G/guitar/BG/h0 True\n",
            "|   |---TemporalHybrid/G/guitar/BG/h1 True\n",
            "|   |---TemporalHybrid/G/guitar/BG/h2 True\n",
            "|   |---TemporalHybrid/G/guitar/BG/h3 True\n",
            "|   |---TemporalHybrid/G/guitar/BG/h4 True\n",
            "|   |---TemporalHybrid/G/guitar/BG/h5 True\n",
            "|   |---TemporalHybrid/G/guitar/BG/h6 True\n",
            "|   |---TemporalHybrid/G/guitar/BG/h7 True\n",
            "KKKKKKKKKKKKKKKKKKKK 0\n",
            "|   |---TemporalHybrid/G/piano/BG/h0 True\n",
            "|   |---TemporalHybrid/G/piano/BG/h1 True\n",
            "|   |---TemporalHybrid/G/piano/BG/h2 True\n",
            "|   |---TemporalHybrid/G/piano/BG/h3 True\n",
            "|   |---TemporalHybrid/G/piano/BG/h4 True\n",
            "|   |---TemporalHybrid/G/piano/BG/h5 True\n",
            "|   |---TemporalHybrid/G/piano/BG/h6 True\n",
            "|   |---TemporalHybrid/G/piano/BG/h7 True\n",
            "KKKKKKKKKKKKKKKKKKKK 0\n",
            "|   |---TemporalHybrid/G/strings/BG/h0 True\n",
            "|   |---TemporalHybrid/G/strings/BG/h1 True\n",
            "|   |---TemporalHybrid/G/strings/BG/h2 True\n",
            "|   |---TemporalHybrid/G/strings/BG/h3 True\n",
            "|   |---TemporalHybrid/G/strings/BG/h4 True\n",
            "|   |---TemporalHybrid/G/strings/BG/h5 True\n",
            "|   |---TemporalHybrid/G/strings/BG/h6 True\n",
            "|   |---TemporalHybrid/G/strings/BG/h7 True\n",
            "KKKKKKKKKKKKKKKKKKKK 0\n",
            "|   |---TemporalHybrid/G/bass/BG/h0 True\n",
            "|   |---TemporalHybrid/G/bass/BG/h1 True\n",
            "|   |---TemporalHybrid/G/bass/BG/h2 True\n",
            "|   |---TemporalHybrid/G/bass/BG/h3 True\n",
            "|   |---TemporalHybrid/G/bass/BG/h4 True\n",
            "|   |---TemporalHybrid/G/bass/BG/h5 True\n",
            "|   |---TemporalHybrid/G/bass/BG/h6 True\n",
            "|   |---TemporalHybrid/G/bass/BG/h7 True\n",
            "KKKKKKKKKKKKKKKKKKKK 0\n",
            "|   |---TemporalHybrid/G/drums/BG/h0 True\n",
            "|   |---TemporalHybrid/G/drums/BG/h1 True\n",
            "|   |---TemporalHybrid/G/drums/BG/h2 True\n",
            "|   |---TemporalHybrid/G/drums/BG/h3 True\n",
            "|   |---TemporalHybrid/G/drums/BG/h4 True\n",
            "|   |---TemporalHybrid/G/drums/BG/h5 True\n",
            "|   |---TemporalHybrid/G/drums/BG/h6 True\n",
            "|   |---TemporalHybrid/G/drums/BG/h7 True\n",
            "KKKKKKKKKKKKKKKKKKKK 0\n",
            "|   |---TemporalHybrid/G/guitar/BG/h0 True\n",
            "|   |---TemporalHybrid/G/guitar/BG/h1 True\n",
            "|   |---TemporalHybrid/G/guitar/BG/h2 True\n",
            "|   |---TemporalHybrid/G/guitar/BG/h3 True\n",
            "|   |---TemporalHybrid/G/guitar/BG/h4 True\n",
            "|   |---TemporalHybrid/G/guitar/BG/h5 True\n",
            "|   |---TemporalHybrid/G/guitar/BG/h6 True\n",
            "|   |---TemporalHybrid/G/guitar/BG/h7 True\n",
            "KKKKKKKKKKKKKKKKKKKK 0\n",
            "|   |---TemporalHybrid/G/piano/BG/h0 True\n",
            "|   |---TemporalHybrid/G/piano/BG/h1 True\n",
            "|   |---TemporalHybrid/G/piano/BG/h2 True\n",
            "|   |---TemporalHybrid/G/piano/BG/h3 True\n",
            "|   |---TemporalHybrid/G/piano/BG/h4 True\n",
            "|   |---TemporalHybrid/G/piano/BG/h5 True\n",
            "|   |---TemporalHybrid/G/piano/BG/h6 True\n",
            "|   |---TemporalHybrid/G/piano/BG/h7 True\n",
            "KKKKKKKKKKKKKKKKKKKK 0\n",
            "|   |---TemporalHybrid/G/strings/BG/h0 True\n",
            "|   |---TemporalHybrid/G/strings/BG/h1 True\n",
            "|   |---TemporalHybrid/G/strings/BG/h2 True\n",
            "|   |---TemporalHybrid/G/strings/BG/h3 True\n",
            "|   |---TemporalHybrid/G/strings/BG/h4 True\n",
            "|   |---TemporalHybrid/G/strings/BG/h5 True\n",
            "|   |---TemporalHybrid/G/strings/BG/h6 True\n",
            "|   |---TemporalHybrid/G/strings/BG/h7 True\n",
            "KKKKKKKKKKKKKKKKKKKK 0\n",
            "|   |---TemporalHybrid/G/bass/BG/h0 True\n",
            "|   |---TemporalHybrid/G/bass/BG/h1 True\n",
            "|   |---TemporalHybrid/G/bass/BG/h2 True\n",
            "|   |---TemporalHybrid/G/bass/BG/h3 True\n",
            "|   |---TemporalHybrid/G/bass/BG/h4 True\n",
            "|   |---TemporalHybrid/G/bass/BG/h5 True\n",
            "|   |---TemporalHybrid/G/bass/BG/h6 True\n",
            "|   |---TemporalHybrid/G/bass/BG/h7 True\n",
            "KKKKKKKKKKKKKKKKKKKK 0\n",
            "|   |---TemporalHybrid/G/drums/BG/h0 True\n",
            "|   |---TemporalHybrid/G/drums/BG/h1 True\n",
            "|   |---TemporalHybrid/G/drums/BG/h2 True\n",
            "|   |---TemporalHybrid/G/drums/BG/h3 True\n",
            "|   |---TemporalHybrid/G/drums/BG/h4 True\n",
            "|   |---TemporalHybrid/G/drums/BG/h5 True\n",
            "|   |---TemporalHybrid/G/drums/BG/h6 True\n",
            "|   |---TemporalHybrid/G/drums/BG/h7 True\n",
            "KKKKKKKKKKKKKKKKKKKK 0\n",
            "|   |---TemporalHybrid/G/guitar/BG/h0 True\n",
            "|   |---TemporalHybrid/G/guitar/BG/h1 True\n",
            "|   |---TemporalHybrid/G/guitar/BG/h2 True\n",
            "|   |---TemporalHybrid/G/guitar/BG/h3 True\n",
            "|   |---TemporalHybrid/G/guitar/BG/h4 True\n",
            "|   |---TemporalHybrid/G/guitar/BG/h5 True\n",
            "|   |---TemporalHybrid/G/guitar/BG/h6 True\n",
            "|   |---TemporalHybrid/G/guitar/BG/h7 True\n",
            "KKKKKKKKKKKKKKKKKKKK 0\n",
            "|   |---TemporalHybrid/G/piano/BG/h0 True\n",
            "|   |---TemporalHybrid/G/piano/BG/h1 True\n",
            "|   |---TemporalHybrid/G/piano/BG/h2 True\n",
            "|   |---TemporalHybrid/G/piano/BG/h3 True\n",
            "|   |---TemporalHybrid/G/piano/BG/h4 True\n",
            "|   |---TemporalHybrid/G/piano/BG/h5 True\n",
            "|   |---TemporalHybrid/G/piano/BG/h6 True\n",
            "|   |---TemporalHybrid/G/piano/BG/h7 True\n",
            "KKKKKKKKKKKKKKKKKKKK 0\n",
            "|   |---TemporalHybrid/G/strings/BG/h0 True\n",
            "|   |---TemporalHybrid/G/strings/BG/h1 True\n",
            "|   |---TemporalHybrid/G/strings/BG/h2 True\n",
            "|   |---TemporalHybrid/G/strings/BG/h3 True\n",
            "|   |---TemporalHybrid/G/strings/BG/h4 True\n",
            "|   |---TemporalHybrid/G/strings/BG/h5 True\n",
            "|   |---TemporalHybrid/G/strings/BG/h6 True\n",
            "|   |---TemporalHybrid/G/strings/BG/h7 True\n",
            "WARNING:tensorflow:From /content/EmoGAN/v1/musegan/libs/ops.py:230: calling reduce_max (from tensorflow.python.ops.math_ops) with keep_dims is deprecated and will be removed in a future version.\n",
            "Instructions for updating:\n",
            "keep_dims is deprecated, use keepdims instead\n",
            "WARNING:tensorflow:From /content/EmoGAN/v1/musegan/libs/ops.py:205: calling reduce_min (from tensorflow.python.ops.math_ops) with keep_dims is deprecated and will be removed in a future version.\n",
            "Instructions for updating:\n",
            "keep_dims is deprecated, use keepdims instead\n",
            "|   |---TemporalHybrid/D/BD/h0 False\n",
            "|   |---TemporalHybrid/D/BD/h1 False\n",
            "|   |---TemporalHybrid/D/BD/h2 False\n",
            "|   |---TemporalHybrid/D/BD/h3 False\n",
            "|   |---TemporalHybrid/D/BD/h4 False\n",
            "|   |---TemporalHybrid/D/BD/h5 False\n",
            "|   |---TemporalHybrid/D/BD/h6 False\n",
            "|   |---TemporalHybrid/D/BD/h7 False\n",
            "|   |---TemporalHybrid/D/BD/h0 True\n",
            "|   |---TemporalHybrid/D/BD/h1 True\n",
            "|   |---TemporalHybrid/D/BD/h2 True\n",
            "|   |---TemporalHybrid/D/BD/h3 True\n",
            "|   |---TemporalHybrid/D/BD/h4 True\n",
            "|   |---TemporalHybrid/D/BD/h5 True\n",
            "|   |---TemporalHybrid/D/BD/h6 True\n",
            "|   |---TemporalHybrid/D/BD/h7 True\n",
            "|   |---TemporalHybrid/D/PD/h0 False\n",
            "|   |---TemporalHybrid/D/PD/h1 False\n",
            "|   |---TemporalHybrid/D/PD/h2 False\n",
            "|   |---TemporalHybrid/D/PD/h3 False\n",
            "|   |---TemporalHybrid/D/PD/h0 True\n",
            "|   |---TemporalHybrid/D/PD/h1 True\n",
            "|   |---TemporalHybrid/D/PD/h2 True\n",
            "|   |---TemporalHybrid/D/PD/h3 True\n",
            "?\n",
            "|   |---TemporalHybrid/D/BD/h0 True\n",
            "|   |---TemporalHybrid/D/BD/h1 True\n",
            "|   |---TemporalHybrid/D/BD/h2 True\n",
            "|   |---TemporalHybrid/D/BD/h3 True\n",
            "|   |---TemporalHybrid/D/BD/h4 True\n",
            "|   |---TemporalHybrid/D/BD/h5 True\n",
            "|   |---TemporalHybrid/D/BD/h6 True\n",
            "|   |---TemporalHybrid/D/BD/h7 True\n",
            "|   |---TemporalHybrid/D/PD/h0 True\n",
            "|   |---TemporalHybrid/D/PD/h1 True\n",
            "|   |---TemporalHybrid/D/PD/h2 True\n",
            "|   |---TemporalHybrid/D/PD/h3 True\n",
            "================================================\n",
            "<tf.Variable 'TemporalHybrid/G/PG/h1/weights:0' shape=(2, 1, 1024, 32) dtype=float32_ref>\n",
            "<tf.Variable 'TemporalHybrid/G/PG/h1/biases:0' shape=(1024,) dtype=float32_ref>\n",
            "<tf.Variable 'TemporalHybrid/G/PG/BatchNorm/beta:0' shape=(1024,) dtype=float32_ref>\n",
            "<tf.Variable 'TemporalHybrid/G/PG/BatchNorm/gamma:0' shape=(1024,) dtype=float32_ref>\n",
            "<tf.Variable 'TemporalHybrid/G/PG/h2/weights:0' shape=(3, 1, 32, 1024) dtype=float32_ref>\n",
            "<tf.Variable 'TemporalHybrid/G/PG/h2/biases:0' shape=(32,) dtype=float32_ref>\n",
            "<tf.Variable 'TemporalHybrid/G/PG/BatchNorm_1/beta:0' shape=(32,) dtype=float32_ref>\n",
            "<tf.Variable 'TemporalHybrid/G/PG/BatchNorm_1/gamma:0' shape=(32,) dtype=float32_ref>\n",
            "<tf.Variable 'TemporalHybrid/G/bass/BG/h0/weights:0' shape=(1, 1, 1024, 128) dtype=float32_ref>\n",
            "<tf.Variable 'TemporalHybrid/G/bass/BG/h0/biases:0' shape=(1024,) dtype=float32_ref>\n",
            "<tf.Variable 'TemporalHybrid/G/bass/BG/BatchNorm/beta:0' shape=(1024,) dtype=float32_ref>\n",
            "<tf.Variable 'TemporalHybrid/G/bass/BG/BatchNorm/gamma:0' shape=(1024,) dtype=float32_ref>\n",
            "<tf.Variable 'TemporalHybrid/G/bass/BG/h1/weights:0' shape=(2, 1, 512, 512) dtype=float32_ref>\n",
            "<tf.Variable 'TemporalHybrid/G/bass/BG/h1/biases:0' shape=(512,) dtype=float32_ref>\n",
            "<tf.Variable 'TemporalHybrid/G/bass/BG/BatchNorm_1/beta:0' shape=(512,) dtype=float32_ref>\n",
            "<tf.Variable 'TemporalHybrid/G/bass/BG/BatchNorm_1/gamma:0' shape=(512,) dtype=float32_ref>\n",
            "<tf.Variable 'TemporalHybrid/G/bass/BG/h2/weights:0' shape=(2, 1, 256, 512) dtype=float32_ref>\n",
            "<tf.Variable 'TemporalHybrid/G/bass/BG/h2/biases:0' shape=(256,) dtype=float32_ref>\n",
            "<tf.Variable 'TemporalHybrid/G/bass/BG/BatchNorm_2/beta:0' shape=(256,) dtype=float32_ref>\n",
            "<tf.Variable 'TemporalHybrid/G/bass/BG/BatchNorm_2/gamma:0' shape=(256,) dtype=float32_ref>\n",
            "<tf.Variable 'TemporalHybrid/G/bass/BG/h3/weights:0' shape=(2, 1, 256, 256) dtype=float32_ref>\n",
            "<tf.Variable 'TemporalHybrid/G/bass/BG/h3/biases:0' shape=(256,) dtype=float32_ref>\n",
            "<tf.Variable 'TemporalHybrid/G/bass/BG/BatchNorm_3/beta:0' shape=(256,) dtype=float32_ref>\n",
            "<tf.Variable 'TemporalHybrid/G/bass/BG/BatchNorm_3/gamma:0' shape=(256,) dtype=float32_ref>\n",
            "<tf.Variable 'TemporalHybrid/G/bass/BG/h4/weights:0' shape=(2, 1, 128, 256) dtype=float32_ref>\n",
            "<tf.Variable 'TemporalHybrid/G/bass/BG/h4/biases:0' shape=(128,) dtype=float32_ref>\n",
            "<tf.Variable 'TemporalHybrid/G/bass/BG/BatchNorm_4/beta:0' shape=(128,) dtype=float32_ref>\n",
            "<tf.Variable 'TemporalHybrid/G/bass/BG/BatchNorm_4/gamma:0' shape=(128,) dtype=float32_ref>\n",
            "<tf.Variable 'TemporalHybrid/G/bass/BG/h5/weights:0' shape=(3, 1, 128, 128) dtype=float32_ref>\n",
            "<tf.Variable 'TemporalHybrid/G/bass/BG/h5/biases:0' shape=(128,) dtype=float32_ref>\n",
            "<tf.Variable 'TemporalHybrid/G/bass/BG/BatchNorm_5/beta:0' shape=(128,) dtype=float32_ref>\n",
            "<tf.Variable 'TemporalHybrid/G/bass/BG/BatchNorm_5/gamma:0' shape=(128,) dtype=float32_ref>\n",
            "<tf.Variable 'TemporalHybrid/G/bass/BG/h6/weights:0' shape=(1, 7, 64, 128) dtype=float32_ref>\n",
            "<tf.Variable 'TemporalHybrid/G/bass/BG/h6/biases:0' shape=(64,) dtype=float32_ref>\n",
            "<tf.Variable 'TemporalHybrid/G/bass/BG/BatchNorm_6/beta:0' shape=(64,) dtype=float32_ref>\n",
            "<tf.Variable 'TemporalHybrid/G/bass/BG/BatchNorm_6/gamma:0' shape=(64,) dtype=float32_ref>\n",
            "<tf.Variable 'TemporalHybrid/G/bass/BG/h7/weights:0' shape=(1, 12, 1, 64) dtype=float32_ref>\n",
            "<tf.Variable 'TemporalHybrid/G/bass/BG/h7/biases:0' shape=(1,) dtype=float32_ref>\n",
            "<tf.Variable 'TemporalHybrid/G/drums/BG/h0/weights:0' shape=(1, 1, 1024, 128) dtype=float32_ref>\n",
            "<tf.Variable 'TemporalHybrid/G/drums/BG/h0/biases:0' shape=(1024,) dtype=float32_ref>\n",
            "<tf.Variable 'TemporalHybrid/G/drums/BG/BatchNorm/beta:0' shape=(1024,) dtype=float32_ref>\n",
            "<tf.Variable 'TemporalHybrid/G/drums/BG/BatchNorm/gamma:0' shape=(1024,) dtype=float32_ref>\n",
            "<tf.Variable 'TemporalHybrid/G/drums/BG/h1/weights:0' shape=(2, 1, 512, 512) dtype=float32_ref>\n",
            "<tf.Variable 'TemporalHybrid/G/drums/BG/h1/biases:0' shape=(512,) dtype=float32_ref>\n",
            "<tf.Variable 'TemporalHybrid/G/drums/BG/BatchNorm_1/beta:0' shape=(512,) dtype=float32_ref>\n",
            "<tf.Variable 'TemporalHybrid/G/drums/BG/BatchNorm_1/gamma:0' shape=(512,) dtype=float32_ref>\n",
            "<tf.Variable 'TemporalHybrid/G/drums/BG/h2/weights:0' shape=(2, 1, 256, 512) dtype=float32_ref>\n",
            "<tf.Variable 'TemporalHybrid/G/drums/BG/h2/biases:0' shape=(256,) dtype=float32_ref>\n",
            "<tf.Variable 'TemporalHybrid/G/drums/BG/BatchNorm_2/beta:0' shape=(256,) dtype=float32_ref>\n",
            "<tf.Variable 'TemporalHybrid/G/drums/BG/BatchNorm_2/gamma:0' shape=(256,) dtype=float32_ref>\n",
            "<tf.Variable 'TemporalHybrid/G/drums/BG/h3/weights:0' shape=(2, 1, 256, 256) dtype=float32_ref>\n",
            "<tf.Variable 'TemporalHybrid/G/drums/BG/h3/biases:0' shape=(256,) dtype=float32_ref>\n",
            "<tf.Variable 'TemporalHybrid/G/drums/BG/BatchNorm_3/beta:0' shape=(256,) dtype=float32_ref>\n",
            "<tf.Variable 'TemporalHybrid/G/drums/BG/BatchNorm_3/gamma:0' shape=(256,) dtype=float32_ref>\n",
            "<tf.Variable 'TemporalHybrid/G/drums/BG/h4/weights:0' shape=(2, 1, 128, 256) dtype=float32_ref>\n",
            "<tf.Variable 'TemporalHybrid/G/drums/BG/h4/biases:0' shape=(128,) dtype=float32_ref>\n",
            "<tf.Variable 'TemporalHybrid/G/drums/BG/BatchNorm_4/beta:0' shape=(128,) dtype=float32_ref>\n",
            "<tf.Variable 'TemporalHybrid/G/drums/BG/BatchNorm_4/gamma:0' shape=(128,) dtype=float32_ref>\n",
            "<tf.Variable 'TemporalHybrid/G/drums/BG/h5/weights:0' shape=(3, 1, 128, 128) dtype=float32_ref>\n",
            "<tf.Variable 'TemporalHybrid/G/drums/BG/h5/biases:0' shape=(128,) dtype=float32_ref>\n",
            "<tf.Variable 'TemporalHybrid/G/drums/BG/BatchNorm_5/beta:0' shape=(128,) dtype=float32_ref>\n",
            "<tf.Variable 'TemporalHybrid/G/drums/BG/BatchNorm_5/gamma:0' shape=(128,) dtype=float32_ref>\n",
            "<tf.Variable 'TemporalHybrid/G/drums/BG/h6/weights:0' shape=(1, 7, 64, 128) dtype=float32_ref>\n",
            "<tf.Variable 'TemporalHybrid/G/drums/BG/h6/biases:0' shape=(64,) dtype=float32_ref>\n",
            "<tf.Variable 'TemporalHybrid/G/drums/BG/BatchNorm_6/beta:0' shape=(64,) dtype=float32_ref>\n",
            "<tf.Variable 'TemporalHybrid/G/drums/BG/BatchNorm_6/gamma:0' shape=(64,) dtype=float32_ref>\n",
            "<tf.Variable 'TemporalHybrid/G/drums/BG/h7/weights:0' shape=(1, 12, 1, 64) dtype=float32_ref>\n",
            "<tf.Variable 'TemporalHybrid/G/drums/BG/h7/biases:0' shape=(1,) dtype=float32_ref>\n",
            "<tf.Variable 'TemporalHybrid/G/guitar/BG/h0/weights:0' shape=(1, 1, 1024, 128) dtype=float32_ref>\n",
            "<tf.Variable 'TemporalHybrid/G/guitar/BG/h0/biases:0' shape=(1024,) dtype=float32_ref>\n",
            "<tf.Variable 'TemporalHybrid/G/guitar/BG/BatchNorm/beta:0' shape=(1024,) dtype=float32_ref>\n",
            "<tf.Variable 'TemporalHybrid/G/guitar/BG/BatchNorm/gamma:0' shape=(1024,) dtype=float32_ref>\n",
            "<tf.Variable 'TemporalHybrid/G/guitar/BG/h1/weights:0' shape=(2, 1, 512, 512) dtype=float32_ref>\n",
            "<tf.Variable 'TemporalHybrid/G/guitar/BG/h1/biases:0' shape=(512,) dtype=float32_ref>\n",
            "<tf.Variable 'TemporalHybrid/G/guitar/BG/BatchNorm_1/beta:0' shape=(512,) dtype=float32_ref>\n",
            "<tf.Variable 'TemporalHybrid/G/guitar/BG/BatchNorm_1/gamma:0' shape=(512,) dtype=float32_ref>\n",
            "<tf.Variable 'TemporalHybrid/G/guitar/BG/h2/weights:0' shape=(2, 1, 256, 512) dtype=float32_ref>\n",
            "<tf.Variable 'TemporalHybrid/G/guitar/BG/h2/biases:0' shape=(256,) dtype=float32_ref>\n",
            "<tf.Variable 'TemporalHybrid/G/guitar/BG/BatchNorm_2/beta:0' shape=(256,) dtype=float32_ref>\n",
            "<tf.Variable 'TemporalHybrid/G/guitar/BG/BatchNorm_2/gamma:0' shape=(256,) dtype=float32_ref>\n",
            "<tf.Variable 'TemporalHybrid/G/guitar/BG/h3/weights:0' shape=(2, 1, 256, 256) dtype=float32_ref>\n",
            "<tf.Variable 'TemporalHybrid/G/guitar/BG/h3/biases:0' shape=(256,) dtype=float32_ref>\n",
            "<tf.Variable 'TemporalHybrid/G/guitar/BG/BatchNorm_3/beta:0' shape=(256,) dtype=float32_ref>\n",
            "<tf.Variable 'TemporalHybrid/G/guitar/BG/BatchNorm_3/gamma:0' shape=(256,) dtype=float32_ref>\n",
            "<tf.Variable 'TemporalHybrid/G/guitar/BG/h4/weights:0' shape=(2, 1, 128, 256) dtype=float32_ref>\n",
            "<tf.Variable 'TemporalHybrid/G/guitar/BG/h4/biases:0' shape=(128,) dtype=float32_ref>\n",
            "<tf.Variable 'TemporalHybrid/G/guitar/BG/BatchNorm_4/beta:0' shape=(128,) dtype=float32_ref>\n",
            "<tf.Variable 'TemporalHybrid/G/guitar/BG/BatchNorm_4/gamma:0' shape=(128,) dtype=float32_ref>\n",
            "<tf.Variable 'TemporalHybrid/G/guitar/BG/h5/weights:0' shape=(3, 1, 128, 128) dtype=float32_ref>\n",
            "<tf.Variable 'TemporalHybrid/G/guitar/BG/h5/biases:0' shape=(128,) dtype=float32_ref>\n",
            "<tf.Variable 'TemporalHybrid/G/guitar/BG/BatchNorm_5/beta:0' shape=(128,) dtype=float32_ref>\n",
            "<tf.Variable 'TemporalHybrid/G/guitar/BG/BatchNorm_5/gamma:0' shape=(128,) dtype=float32_ref>\n",
            "<tf.Variable 'TemporalHybrid/G/guitar/BG/h6/weights:0' shape=(1, 7, 64, 128) dtype=float32_ref>\n",
            "<tf.Variable 'TemporalHybrid/G/guitar/BG/h6/biases:0' shape=(64,) dtype=float32_ref>\n",
            "<tf.Variable 'TemporalHybrid/G/guitar/BG/BatchNorm_6/beta:0' shape=(64,) dtype=float32_ref>\n",
            "<tf.Variable 'TemporalHybrid/G/guitar/BG/BatchNorm_6/gamma:0' shape=(64,) dtype=float32_ref>\n",
            "<tf.Variable 'TemporalHybrid/G/guitar/BG/h7/weights:0' shape=(1, 12, 1, 64) dtype=float32_ref>\n",
            "<tf.Variable 'TemporalHybrid/G/guitar/BG/h7/biases:0' shape=(1,) dtype=float32_ref>\n",
            "<tf.Variable 'TemporalHybrid/G/piano/BG/h0/weights:0' shape=(1, 1, 1024, 128) dtype=float32_ref>\n",
            "<tf.Variable 'TemporalHybrid/G/piano/BG/h0/biases:0' shape=(1024,) dtype=float32_ref>\n",
            "<tf.Variable 'TemporalHybrid/G/piano/BG/BatchNorm/beta:0' shape=(1024,) dtype=float32_ref>\n",
            "<tf.Variable 'TemporalHybrid/G/piano/BG/BatchNorm/gamma:0' shape=(1024,) dtype=float32_ref>\n",
            "<tf.Variable 'TemporalHybrid/G/piano/BG/h1/weights:0' shape=(2, 1, 512, 512) dtype=float32_ref>\n",
            "<tf.Variable 'TemporalHybrid/G/piano/BG/h1/biases:0' shape=(512,) dtype=float32_ref>\n",
            "<tf.Variable 'TemporalHybrid/G/piano/BG/BatchNorm_1/beta:0' shape=(512,) dtype=float32_ref>\n",
            "<tf.Variable 'TemporalHybrid/G/piano/BG/BatchNorm_1/gamma:0' shape=(512,) dtype=float32_ref>\n",
            "<tf.Variable 'TemporalHybrid/G/piano/BG/h2/weights:0' shape=(2, 1, 256, 512) dtype=float32_ref>\n",
            "<tf.Variable 'TemporalHybrid/G/piano/BG/h2/biases:0' shape=(256,) dtype=float32_ref>\n",
            "<tf.Variable 'TemporalHybrid/G/piano/BG/BatchNorm_2/beta:0' shape=(256,) dtype=float32_ref>\n",
            "<tf.Variable 'TemporalHybrid/G/piano/BG/BatchNorm_2/gamma:0' shape=(256,) dtype=float32_ref>\n",
            "<tf.Variable 'TemporalHybrid/G/piano/BG/h3/weights:0' shape=(2, 1, 256, 256) dtype=float32_ref>\n",
            "<tf.Variable 'TemporalHybrid/G/piano/BG/h3/biases:0' shape=(256,) dtype=float32_ref>\n",
            "<tf.Variable 'TemporalHybrid/G/piano/BG/BatchNorm_3/beta:0' shape=(256,) dtype=float32_ref>\n",
            "<tf.Variable 'TemporalHybrid/G/piano/BG/BatchNorm_3/gamma:0' shape=(256,) dtype=float32_ref>\n",
            "<tf.Variable 'TemporalHybrid/G/piano/BG/h4/weights:0' shape=(2, 1, 128, 256) dtype=float32_ref>\n",
            "<tf.Variable 'TemporalHybrid/G/piano/BG/h4/biases:0' shape=(128,) dtype=float32_ref>\n",
            "<tf.Variable 'TemporalHybrid/G/piano/BG/BatchNorm_4/beta:0' shape=(128,) dtype=float32_ref>\n",
            "<tf.Variable 'TemporalHybrid/G/piano/BG/BatchNorm_4/gamma:0' shape=(128,) dtype=float32_ref>\n",
            "<tf.Variable 'TemporalHybrid/G/piano/BG/h5/weights:0' shape=(3, 1, 128, 128) dtype=float32_ref>\n",
            "<tf.Variable 'TemporalHybrid/G/piano/BG/h5/biases:0' shape=(128,) dtype=float32_ref>\n",
            "<tf.Variable 'TemporalHybrid/G/piano/BG/BatchNorm_5/beta:0' shape=(128,) dtype=float32_ref>\n",
            "<tf.Variable 'TemporalHybrid/G/piano/BG/BatchNorm_5/gamma:0' shape=(128,) dtype=float32_ref>\n",
            "<tf.Variable 'TemporalHybrid/G/piano/BG/h6/weights:0' shape=(1, 7, 64, 128) dtype=float32_ref>\n",
            "<tf.Variable 'TemporalHybrid/G/piano/BG/h6/biases:0' shape=(64,) dtype=float32_ref>\n",
            "<tf.Variable 'TemporalHybrid/G/piano/BG/BatchNorm_6/beta:0' shape=(64,) dtype=float32_ref>\n",
            "<tf.Variable 'TemporalHybrid/G/piano/BG/BatchNorm_6/gamma:0' shape=(64,) dtype=float32_ref>\n",
            "<tf.Variable 'TemporalHybrid/G/piano/BG/h7/weights:0' shape=(1, 12, 1, 64) dtype=float32_ref>\n",
            "<tf.Variable 'TemporalHybrid/G/piano/BG/h7/biases:0' shape=(1,) dtype=float32_ref>\n",
            "<tf.Variable 'TemporalHybrid/G/strings/BG/h0/weights:0' shape=(1, 1, 1024, 128) dtype=float32_ref>\n",
            "<tf.Variable 'TemporalHybrid/G/strings/BG/h0/biases:0' shape=(1024,) dtype=float32_ref>\n",
            "<tf.Variable 'TemporalHybrid/G/strings/BG/BatchNorm/beta:0' shape=(1024,) dtype=float32_ref>\n",
            "<tf.Variable 'TemporalHybrid/G/strings/BG/BatchNorm/gamma:0' shape=(1024,) dtype=float32_ref>\n",
            "<tf.Variable 'TemporalHybrid/G/strings/BG/h1/weights:0' shape=(2, 1, 512, 512) dtype=float32_ref>\n",
            "<tf.Variable 'TemporalHybrid/G/strings/BG/h1/biases:0' shape=(512,) dtype=float32_ref>\n",
            "<tf.Variable 'TemporalHybrid/G/strings/BG/BatchNorm_1/beta:0' shape=(512,) dtype=float32_ref>\n",
            "<tf.Variable 'TemporalHybrid/G/strings/BG/BatchNorm_1/gamma:0' shape=(512,) dtype=float32_ref>\n",
            "<tf.Variable 'TemporalHybrid/G/strings/BG/h2/weights:0' shape=(2, 1, 256, 512) dtype=float32_ref>\n",
            "<tf.Variable 'TemporalHybrid/G/strings/BG/h2/biases:0' shape=(256,) dtype=float32_ref>\n",
            "<tf.Variable 'TemporalHybrid/G/strings/BG/BatchNorm_2/beta:0' shape=(256,) dtype=float32_ref>\n",
            "<tf.Variable 'TemporalHybrid/G/strings/BG/BatchNorm_2/gamma:0' shape=(256,) dtype=float32_ref>\n",
            "<tf.Variable 'TemporalHybrid/G/strings/BG/h3/weights:0' shape=(2, 1, 256, 256) dtype=float32_ref>\n",
            "<tf.Variable 'TemporalHybrid/G/strings/BG/h3/biases:0' shape=(256,) dtype=float32_ref>\n",
            "<tf.Variable 'TemporalHybrid/G/strings/BG/BatchNorm_3/beta:0' shape=(256,) dtype=float32_ref>\n",
            "<tf.Variable 'TemporalHybrid/G/strings/BG/BatchNorm_3/gamma:0' shape=(256,) dtype=float32_ref>\n",
            "<tf.Variable 'TemporalHybrid/G/strings/BG/h4/weights:0' shape=(2, 1, 128, 256) dtype=float32_ref>\n",
            "<tf.Variable 'TemporalHybrid/G/strings/BG/h4/biases:0' shape=(128,) dtype=float32_ref>\n",
            "<tf.Variable 'TemporalHybrid/G/strings/BG/BatchNorm_4/beta:0' shape=(128,) dtype=float32_ref>\n",
            "<tf.Variable 'TemporalHybrid/G/strings/BG/BatchNorm_4/gamma:0' shape=(128,) dtype=float32_ref>\n",
            "<tf.Variable 'TemporalHybrid/G/strings/BG/h5/weights:0' shape=(3, 1, 128, 128) dtype=float32_ref>\n",
            "<tf.Variable 'TemporalHybrid/G/strings/BG/h5/biases:0' shape=(128,) dtype=float32_ref>\n",
            "<tf.Variable 'TemporalHybrid/G/strings/BG/BatchNorm_5/beta:0' shape=(128,) dtype=float32_ref>\n",
            "<tf.Variable 'TemporalHybrid/G/strings/BG/BatchNorm_5/gamma:0' shape=(128,) dtype=float32_ref>\n",
            "<tf.Variable 'TemporalHybrid/G/strings/BG/h6/weights:0' shape=(1, 7, 64, 128) dtype=float32_ref>\n",
            "<tf.Variable 'TemporalHybrid/G/strings/BG/h6/biases:0' shape=(64,) dtype=float32_ref>\n",
            "<tf.Variable 'TemporalHybrid/G/strings/BG/BatchNorm_6/beta:0' shape=(64,) dtype=float32_ref>\n",
            "<tf.Variable 'TemporalHybrid/G/strings/BG/BatchNorm_6/gamma:0' shape=(64,) dtype=float32_ref>\n",
            "<tf.Variable 'TemporalHybrid/G/strings/BG/h7/weights:0' shape=(1, 12, 1, 64) dtype=float32_ref>\n",
            "<tf.Variable 'TemporalHybrid/G/strings/BG/h7/biases:0' shape=(1,) dtype=float32_ref>\n",
            "Traceback (most recent call last):\n",
            "  File \"EmoGAN/v1/main.py\", line 39, in <module>\n",
            "    input_data.add_data(path_x_train_phr, 'train')\n",
            "  File \"/content/EmoGAN/v1/input_data.py\", line 16, in add_data\n",
            "    self.x[key] = np.load(path_new)\n",
            "  File \"/usr/local/lib/python3.6/dist-packages/numpy/lib/npyio.py\", line 372, in load\n",
            "    fid = open(file, \"rb\")\n",
            "FileNotFoundError: [Errno 2] No such file or directory: 'tra_X_phrase_all'\n"
          ],
          "name": "stdout"
        }
      ]
    },
    {
      "metadata": {
        "id": "wC_UldmXkL3t",
        "colab_type": "code",
        "outputId": "04fba6a2-3065-4eaf-a371-939bc36f2a47",
        "colab": {
          "base_uri": "https://localhost:8080/",
          "height": 136
        }
      },
      "cell_type": "code",
      "source": [
        "!cd EmoGAN; git pull\n",
        "!python EmoGAN/v2/musegan/utils/midi_io.py --in_file=exp/default/results/inference/arrays/fake_x_bernoulli_sampling/fake_x_bernoulli_sampling_0.npz --out_file=fake_x.midi --config_file=exp/default/results/inference/config.yaml "
      ],
      "execution_count": 0,
      "outputs": [
        {
          "output_type": "stream",
          "text": [
            "Already up to date.\n",
            "Traceback (most recent call last):\n",
            "  File \"EmoGAN/v2/musegan/utils/midi_io.py\", line 101, in <module>\n",
            "    save_midi(args.out_file, args.in_file, args.config_file)\n",
            "  File \"EmoGAN/v2/musegan/utils/midi_io.py\", line 75, in save_midi\n",
            "    if not np.issubdtype(phrases.dtype, np.bool_):\n",
            "AttributeError: 'str' object has no attribute 'dtype'\n"
          ],
          "name": "stdout"
        }
      ]
    },
    {
      "metadata": {
        "id": "BwG_kxxFL-BM",
        "colab_type": "text"
      },
      "cell_type": "markdown",
      "source": [
        "#Convert pianorolls to midi using pypianoroll"
      ]
    },
    {
      "metadata": {
        "id": "KUIHl0PsL9Ip",
        "colab_type": "code",
        "outputId": "10915600-22a4-45d1-85f7-12209cdfbd27",
        "colab": {
          "base_uri": "https://localhost:8080/",
          "height": 139
        }
      },
      "cell_type": "code",
      "source": [
        "!pip install pypianoroll\n",
        "import pypianoroll\n",
        "pianoroll_path = 'EmoGAN/exp/default/results/inference/pianorolls/fake_x_bernoulli_sampling/fake_x_bernoulli_sampling_0.npz'\n",
        "pianoroll = pypianoroll.load(pianoroll_path)\n",
        "pypianoroll.write(pianoroll, 'roll.midi')"
      ],
      "execution_count": 0,
      "outputs": [
        {
          "output_type": "stream",
          "text": [
            "Requirement already satisfied: pypianoroll in /usr/local/lib/python3.6/dist-packages (0.5.0)\n",
            "Requirement already satisfied: six<2.0,>=1.0.0 in /usr/local/lib/python3.6/dist-packages (from pypianoroll) (1.11.0)\n",
            "Requirement already satisfied: scipy<2.0,>=1.0.0 in /usr/local/lib/python3.6/dist-packages (from pypianoroll) (1.1.0)\n",
            "Requirement already satisfied: pretty-midi<1.0,>=0.2.8 in /usr/local/lib/python3.6/dist-packages (from pypianoroll) (0.2.8)\n",
            "Requirement already satisfied: numpy<2.0,>=1.10.0 in /usr/local/lib/python3.6/dist-packages (from pypianoroll) (1.14.6)\n",
            "Requirement already satisfied: mido>=1.1.16 in /usr/local/lib/python3.6/dist-packages (from pretty-midi<1.0,>=0.2.8->pypianoroll) (1.2.9)\n"
          ],
          "name": "stdout"
        }
      ]
    },
    {
      "metadata": {
        "id": "OPSyDTGRzY2s",
        "colab_type": "text"
      },
      "cell_type": "markdown",
      "source": [
        "#Download files from colab to you"
      ]
    },
    {
      "metadata": {
        "id": "Y-AwXf3r9bw_",
        "colab_type": "code",
        "outputId": "a9c0799f-d81a-4224-a55d-66a2e567ff5b",
        "colab": {
          "base_uri": "https://localhost:8080/",
          "height": 215
        }
      },
      "cell_type": "code",
      "source": [
        "\n",
        "from google.colab import files\n",
        "import os\n",
        "for filename in os.listdir(\"checkpoints\"):\n",
        "    files.download(\"checkpoints/\"+str(filename))"
      ],
      "execution_count": 0,
      "outputs": [
        {
          "output_type": "error",
          "ename": "FileNotFoundError",
          "evalue": "ignored",
          "traceback": [
            "\u001b[0;31m---------------------------------------------------------------------------\u001b[0m",
            "\u001b[0;31mFileNotFoundError\u001b[0m                         Traceback (most recent call last)",
            "\u001b[0;32m<ipython-input-10-ade81f5882b9>\u001b[0m in \u001b[0;36m<module>\u001b[0;34m()\u001b[0m\n\u001b[1;32m      2\u001b[0m \u001b[0;32mfrom\u001b[0m \u001b[0mgoogle\u001b[0m\u001b[0;34m.\u001b[0m\u001b[0mcolab\u001b[0m \u001b[0;32mimport\u001b[0m \u001b[0mfiles\u001b[0m\u001b[0;34m\u001b[0m\u001b[0m\n\u001b[1;32m      3\u001b[0m \u001b[0;32mimport\u001b[0m \u001b[0mos\u001b[0m\u001b[0;34m\u001b[0m\u001b[0m\n\u001b[0;32m----> 4\u001b[0;31m \u001b[0;32mfor\u001b[0m \u001b[0mfilename\u001b[0m \u001b[0;32min\u001b[0m \u001b[0mos\u001b[0m\u001b[0;34m.\u001b[0m\u001b[0mlistdir\u001b[0m\u001b[0;34m(\u001b[0m\u001b[0;34m\"checkpoints\"\u001b[0m\u001b[0;34m)\u001b[0m\u001b[0;34m:\u001b[0m\u001b[0;34m\u001b[0m\u001b[0m\n\u001b[0m\u001b[1;32m      5\u001b[0m     \u001b[0mfiles\u001b[0m\u001b[0;34m.\u001b[0m\u001b[0mdownload\u001b[0m\u001b[0;34m(\u001b[0m\u001b[0;34m\"checkpoints/\"\u001b[0m\u001b[0;34m+\u001b[0m\u001b[0mstr\u001b[0m\u001b[0;34m(\u001b[0m\u001b[0mfilename\u001b[0m\u001b[0;34m)\u001b[0m\u001b[0;34m)\u001b[0m\u001b[0;34m\u001b[0m\u001b[0m\n",
            "\u001b[0;31mFileNotFoundError\u001b[0m: [Errno 2] No such file or directory: 'checkpoints'"
          ]
        }
      ]
    },
    {
      "metadata": {
        "id": "u1ZpgqoIAOFd",
        "colab_type": "code",
        "colab": {}
      },
      "cell_type": "code",
      "source": [
        ""
      ],
      "execution_count": 0,
      "outputs": []
    }
  ]
}