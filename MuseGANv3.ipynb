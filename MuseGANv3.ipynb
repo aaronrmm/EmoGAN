{
  "nbformat": 4,
  "nbformat_minor": 0,
  "metadata": {
    "colab": {
      "name": "MuseGANv3.ipynb",
      "version": "0.3.2",
      "provenance": [],
      "collapsed_sections": [],
      "toc_visible": true,
      "include_colab_link": true
    },
    "kernelspec": {
      "name": "python3",
      "display_name": "Python 3"
    },
    "accelerator": "GPU"
  },
  "cells": [
    {
      "cell_type": "markdown",
      "metadata": {
        "id": "view-in-github",
        "colab_type": "text"
      },
      "source": [
        "<a href=\"https://colab.research.google.com/github/aaronrmm/EmoGAN/blob/master/MuseGANv3.ipynb\" target=\"_parent\"><img src=\"https://colab.research.google.com/assets/colab-badge.svg\" alt=\"Open In Colab\"/></a>"
      ]
    },
    {
      "metadata": {
        "id": "2hcfX_3KsSe-",
        "colab_type": "code",
        "outputId": "f821d239-213e-4186-adc9-5a140211161b",
        "colab": {
          "base_uri": "https://localhost:8080/",
          "height": 136
        }
      },
      "cell_type": "code",
      "source": [
        "!git clone https://github.com/aaronrmm/EmoGAN.git"
      ],
      "execution_count": 0,
      "outputs": [
        {
          "output_type": "stream",
          "text": [
            "Cloning into 'EmoGAN'...\n",
            "remote: Enumerating objects: 27, done.\u001b[K\n",
            "remote: Counting objects: 100% (27/27), done.\u001b[K\n",
            "remote: Compressing objects: 100% (22/22), done.\u001b[K\n",
            "remote: Total 1793 (delta 12), reused 16 (delta 5), pack-reused 1766\u001b[K\n",
            "Receiving objects: 100% (1793/1793), 57.59 MiB | 25.84 MiB/s, done.\n",
            "Resolving deltas: 100% (952/952), done.\n"
          ],
          "name": "stdout"
        }
      ]
    },
    {
      "metadata": {
        "id": "XyuhxZYr6ulT",
        "colab_type": "code",
        "outputId": "75c4ee76-d8f0-4524-c3af-ce9ba2f4223e",
        "colab": {
          "base_uri": "https://localhost:8080/",
          "height": 853
        }
      },
      "cell_type": "code",
      "source": [
        "\n",
        "!pip install pypianoroll\n",
        "!git clone https://github.com/salu133445/pypianoroll.git\n",
        "!pip install pretty_midi\n",
        "!pip install imageio\n",
        "!cd EmoGAN; git pull"
      ],
      "execution_count": 0,
      "outputs": [
        {
          "output_type": "stream",
          "text": [
            "Collecting pypianoroll\n",
            "  Downloading https://files.pythonhosted.org/packages/aa/33/fa38c07909e425add987146cb0f8d5ad80262f6a72cc820bf7e5f690d527/pypianoroll-0.5.0.tar.gz\n",
            "Requirement already satisfied: six<2.0,>=1.0.0 in /usr/local/lib/python3.6/dist-packages (from pypianoroll) (1.11.0)\n",
            "Requirement already satisfied: numpy<2.0,>=1.10.0 in /usr/local/lib/python3.6/dist-packages (from pypianoroll) (1.14.6)\n",
            "Collecting scipy<2.0,>=1.0.0 (from pypianoroll)\n",
            "\u001b[?25l  Downloading https://files.pythonhosted.org/packages/a8/0b/f163da98d3a01b3e0ef1cab8dd2123c34aee2bafbb1c5bffa354cc8a1730/scipy-1.1.0-cp36-cp36m-manylinux1_x86_64.whl (31.2MB)\n",
            "\u001b[K    100% |████████████████████████████████| 31.2MB 548kB/s \n",
            "\u001b[?25hCollecting pretty_midi<1.0,>=0.2.8 (from pypianoroll)\n",
            "\u001b[?25l  Downloading https://files.pythonhosted.org/packages/31/82/ee67696b85ca3be267c67a46595545e719eec677dcd94e3cf827db833fb8/pretty_midi-0.2.8.tar.gz (5.6MB)\n",
            "\u001b[K    100% |████████████████████████████████| 5.6MB 8.9MB/s \n",
            "\u001b[?25hCollecting mido>=1.1.16 (from pretty_midi<1.0,>=0.2.8->pypianoroll)\n",
            "\u001b[?25l  Downloading https://files.pythonhosted.org/packages/20/0a/81beb587b1ae832ea6a1901dc7c6faa380e8dd154e0a862f0a9f3d2afab9/mido-1.2.9-py2.py3-none-any.whl (52kB)\n",
            "\u001b[K    100% |████████████████████████████████| 61kB 22.6MB/s \n",
            "\u001b[?25hBuilding wheels for collected packages: pypianoroll, pretty-midi\n",
            "  Running setup.py bdist_wheel for pypianoroll ... \u001b[?25l-\b \bdone\n",
            "\u001b[?25h  Stored in directory: /root/.cache/pip/wheels/ed/f6/fb/5d070524ecf7ba9ed201247a293c01945cfd7f840f8ef338c0\n",
            "  Running setup.py bdist_wheel for pretty-midi ... \u001b[?25l-\b \b\\\b \b|\b \bdone\n",
            "\u001b[?25h  Stored in directory: /root/.cache/pip/wheels/22/e7/6b/70eb5879f7dbcb4f44fee735a61d6298f9e082be8538b52422\n",
            "Successfully built pypianoroll pretty-midi\n",
            "Installing collected packages: scipy, mido, pretty-midi, pypianoroll\n",
            "  Found existing installation: scipy 0.19.1\n",
            "    Uninstalling scipy-0.19.1:\n",
            "      Successfully uninstalled scipy-0.19.1\n",
            "Successfully installed mido-1.2.9 pretty-midi-0.2.8 pypianoroll-0.5.0 scipy-1.1.0\n",
            "Cloning into 'pypianoroll'...\n",
            "remote: Enumerating objects: 33, done.\u001b[K\n",
            "remote: Counting objects: 100% (33/33), done.\u001b[K\n",
            "remote: Compressing objects: 100% (22/22), done.\u001b[K\n",
            "remote: Total 1534 (delta 16), reused 25 (delta 11), pack-reused 1501\u001b[K\n",
            "Receiving objects: 100% (1534/1534), 3.62 MiB | 7.02 MiB/s, done.\n",
            "Resolving deltas: 100% (1028/1028), done.\n",
            "Requirement already satisfied: pretty_midi in /usr/local/lib/python3.6/dist-packages (0.2.8)\n",
            "Requirement already satisfied: numpy>=1.7.0 in /usr/local/lib/python3.6/dist-packages (from pretty_midi) (1.14.6)\n",
            "Requirement already satisfied: six in /usr/local/lib/python3.6/dist-packages (from pretty_midi) (1.11.0)\n",
            "Requirement already satisfied: mido>=1.1.16 in /usr/local/lib/python3.6/dist-packages (from pretty_midi) (1.2.9)\n",
            "Collecting imageio\n",
            "\u001b[?25l  Downloading https://files.pythonhosted.org/packages/28/b4/cbb592964dfd71a9de6a5b08f882fd334fb99ae09ddc82081dbb2f718c81/imageio-2.4.1.tar.gz (3.3MB)\n",
            "\u001b[K    100% |████████████████████████████████| 3.3MB 10.7MB/s \n",
            "\u001b[?25hRequirement already satisfied: numpy in /usr/local/lib/python3.6/dist-packages (from imageio) (1.14.6)\n",
            "Requirement already satisfied: pillow in /usr/local/lib/python3.6/dist-packages (from imageio) (4.0.0)\n",
            "Requirement already satisfied: olefile in /usr/local/lib/python3.6/dist-packages (from pillow->imageio) (0.46)\n",
            "Building wheels for collected packages: imageio\n",
            "  Running setup.py bdist_wheel for imageio ... \u001b[?25l-\b \b\\\b \b|\b \b/\b \bdone\n",
            "\u001b[?25h  Stored in directory: /root/.cache/pip/wheels/e0/43/31/605de9372ceaf657f152d3d5e82f42cf265d81db8bbe63cde1\n",
            "Successfully built imageio\n",
            "Installing collected packages: imageio\n",
            "Successfully installed imageio-2.4.1\n",
            "Already up to date.\n"
          ],
          "name": "stdout"
        }
      ]
    },
    {
      "metadata": {
        "id": "7-nHgPnwJab-",
        "colab_type": "text"
      },
      "cell_type": "markdown",
      "source": [
        "# Download Training Data"
      ]
    },
    {
      "metadata": {
        "id": "CbuHDciPUCyF",
        "colab_type": "code",
        "outputId": "f49c6f28-2555-4372-9909-c50aa199e7a7",
        "colab": {
          "base_uri": "https://localhost:8080/",
          "height": 377
        }
      },
      "cell_type": "code",
      "source": [
        "filename=\"lastfm_alternative_8b_phrase.npy\"\n",
        "fileid=\"1x3CeSqE6ElWa6V7ueNl8FKPFmMoyu4ED\"\n",
        "\n",
        "confirm = !(wget --quiet --save-cookies /tmp/cookies.txt --keep-session-cookies --no-check-certificate \"https://docs.google.com/uc?export=download&id=$fileid\" -O- | sed -rn 's/.*confirm=([0-9A-Za-z_]+).*/\\1\\n/p')\n",
        "\n",
        "!echo $confirm\n",
        "\n",
        "print(confirm)\n",
        "\n",
        "confirm = str(confirm)\n",
        "\n",
        "print(confirm)\n",
        "\n",
        "confirm = confirm[2:-2]\n",
        "\n",
        "!wget -O $filename --load-cookies /tmp/cookies.txt \"https://docs.google.com/uc?export=download&confirm=$confirm&id=$fileid\"\n",
        "\n",
        "!rm -rf /tmp/cookies.txt\n",
        "\n"
      ],
      "execution_count": 0,
      "outputs": [
        {
          "output_type": "stream",
          "text": [
            "[vNOM]\n",
            "['vNOM']\n",
            "['vNOM']\n",
            "--2018-11-01 02:53:00--  https://docs.google.com/uc?export=download&confirm=vNOM&id=1x3CeSqE6ElWa6V7ueNl8FKPFmMoyu4ED\n",
            "Resolving docs.google.com (docs.google.com)... 64.233.166.113, 64.233.166.100, 64.233.166.102, ...\n",
            "Connecting to docs.google.com (docs.google.com)|64.233.166.113|:443... connected.\n",
            "HTTP request sent, awaiting response... 302 Moved Temporarily\n",
            "Location: https://doc-0s-b8-docs.googleusercontent.com/docs/securesc/ha0ro937gcuc7l7deffksulhg5h7mbp1/u6gupae6k3losv2djh4u9e4v3el0fg5i/1541037600000/15994423637875292506/*/1x3CeSqE6ElWa6V7ueNl8FKPFmMoyu4ED?e=download [following]\n",
            "Warning: wildcards not supported in HTTP.\n",
            "--2018-11-01 02:53:00--  https://doc-0s-b8-docs.googleusercontent.com/docs/securesc/ha0ro937gcuc7l7deffksulhg5h7mbp1/u6gupae6k3losv2djh4u9e4v3el0fg5i/1541037600000/15994423637875292506/*/1x3CeSqE6ElWa6V7ueNl8FKPFmMoyu4ED?e=download\n",
            "Resolving doc-0s-b8-docs.googleusercontent.com (doc-0s-b8-docs.googleusercontent.com)... 108.177.15.132, 2a00:1450:400c:c0c::84\n",
            "Connecting to doc-0s-b8-docs.googleusercontent.com (doc-0s-b8-docs.googleusercontent.com)|108.177.15.132|:443... connected.\n",
            "HTTP request sent, awaiting response... 200 OK\n",
            "Length: unspecified [application/octet-stream]\n",
            "Saving to: ‘lastfm_alternative_8b_phrase.npy’\n",
            "\n",
            "lastfm_alternative_     [               <=>  ]   3.30G   146MB/s    in 25s     \n",
            "\n",
            "2018-11-01 02:53:26 (134 MB/s) - ‘lastfm_alternative_8b_phrase.npy’ saved [3547127936]\n",
            "\n"
          ],
          "name": "stdout"
        }
      ]
    },
    {
      "metadata": {
        "id": "v340JFtDzKof",
        "colab_type": "text"
      },
      "cell_type": "markdown",
      "source": [
        "#Download pretrained model"
      ]
    },
    {
      "metadata": {
        "id": "ELUfmi5jFsjf",
        "colab_type": "code",
        "outputId": "0390a638-ea0b-4546-8fe2-ce8cd7be5bf7",
        "colab": {
          "base_uri": "https://localhost:8080/",
          "height": 377
        }
      },
      "cell_type": "code",
      "source": [
        "filename=\"lastfm_alternative_g_composer_d_proposed.tar.gz\"\n",
        "fileid=\"1QzTL4So-oRWrif4gVKqQM5yQ48y2X5gM\"\n",
        "\n",
        "confirm = !(wget --quiet --save-cookies /tmp/cookies.txt --keep-session-cookies --no-check-certificate \"https://docs.google.com/uc?export=download&id=$fileid\" -O- | sed -rn 's/.*confirm=([0-9A-Za-z_]+).*/\\1\\n/p')\n",
        "\n",
        "!echo $confirm\n",
        "\n",
        "print(confirm)\n",
        "\n",
        "confirm = str(confirm)\n",
        "\n",
        "print(confirm)\n",
        "\n",
        "confirm = confirm[2:-2]\n",
        "\n",
        "!wget -O $filename --load-cookies /tmp/cookies.txt \"https://docs.google.com/uc?export=download&confirm=$confirm&id=$fileid\"\n",
        "\n",
        "!rm -rf /tmp/cookies.txt"
      ],
      "execution_count": 0,
      "outputs": [
        {
          "output_type": "stream",
          "text": [
            "[]\n",
            "[]\n",
            "[]\n",
            "--2018-11-01 02:53:38--  https://docs.google.com/uc?export=download&confirm=&id=1QzTL4So-oRWrif4gVKqQM5yQ48y2X5gM\n",
            "Resolving docs.google.com (docs.google.com)... 64.233.166.113, 64.233.166.100, 64.233.166.102, ...\n",
            "Connecting to docs.google.com (docs.google.com)|64.233.166.113|:443... connected.\n",
            "HTTP request sent, awaiting response... 302 Moved Temporarily\n",
            "Location: https://doc-0c-b8-docs.googleusercontent.com/docs/securesc/ha0ro937gcuc7l7deffksulhg5h7mbp1/8astd0aevq8v3l8g18fls7ab74lk9l92/1541037600000/15994423637875292506/*/1QzTL4So-oRWrif4gVKqQM5yQ48y2X5gM?e=download [following]\n",
            "Warning: wildcards not supported in HTTP.\n",
            "--2018-11-01 02:53:42--  https://doc-0c-b8-docs.googleusercontent.com/docs/securesc/ha0ro937gcuc7l7deffksulhg5h7mbp1/8astd0aevq8v3l8g18fls7ab74lk9l92/1541037600000/15994423637875292506/*/1QzTL4So-oRWrif4gVKqQM5yQ48y2X5gM?e=download\n",
            "Resolving doc-0c-b8-docs.googleusercontent.com (doc-0c-b8-docs.googleusercontent.com)... 108.177.15.132, 2a00:1450:400c:c0c::84\n",
            "Connecting to doc-0c-b8-docs.googleusercontent.com (doc-0c-b8-docs.googleusercontent.com)|108.177.15.132|:443... connected.\n",
            "HTTP request sent, awaiting response... 200 OK\n",
            "Length: unspecified [application/x-gzip]\n",
            "Saving to: ‘lastfm_alternative_g_composer_d_proposed.tar.gz’\n",
            "\n",
            "lastfm_alternative_     [  <=>               ]  54.99M   150MB/s    in 0.4s    \n",
            "\n",
            "2018-11-01 02:53:43 (150 MB/s) - ‘lastfm_alternative_g_composer_d_proposed.tar.gz’ saved [57662031]\n",
            "\n"
          ],
          "name": "stdout"
        }
      ]
    },
    {
      "metadata": {
        "id": "xGQWOaFtvWxM",
        "colab_type": "code",
        "outputId": "34bf4661-9bd5-4c6f-d899-d5830d463d22",
        "colab": {
          "base_uri": "https://localhost:8080/",
          "height": 187
        }
      },
      "cell_type": "code",
      "source": [
        "!apt-get install p7zip-full\n",
        "!tar -xvf lastfm_alternative_g_composer_d_proposed.tar.gz"
      ],
      "execution_count": 0,
      "outputs": [
        {
          "output_type": "stream",
          "text": [
            "Reading package lists... Done\n",
            "Building dependency tree       \n",
            "Reading state information... Done\n",
            "p7zip-full is already the newest version (16.02+dfsg-6).\n",
            "0 upgraded, 0 newly installed, 0 to remove and 3 not upgraded.\n",
            "lastfm_alternative_g_composer_d_proposed/\n",
            "lastfm_alternative_g_composer_d_proposed/GAN.model-55470.data-00000-of-00001\n",
            "lastfm_alternative_g_composer_d_proposed/GAN.model-55470.index\n",
            "lastfm_alternative_g_composer_d_proposed/GAN.model-55470.meta\n",
            "lastfm_alternative_g_composer_d_proposed/checkpoint\n"
          ],
          "name": "stdout"
        }
      ]
    },
    {
      "metadata": {
        "id": "6e4ldiUYbLxn",
        "colab_type": "code",
        "colab": {}
      },
      "cell_type": "code",
      "source": [
        "!mkdir -p /home/salu133445/NAS/salu133445/git/musegan/exp/musegan/lastfm_alternative_g_composer_d_proposed/checkpoints\n",
        "!mv lastfm_alternative_g_composer_d_proposed /home/salu133445/NAS/salu133445/git/musegan/exp/musegan/lastfm_alternative_g_composer_d_proposed/checkpoints"
      ],
      "execution_count": 0,
      "outputs": []
    },
    {
      "metadata": {
        "id": "5PC7DOpozRGD",
        "colab_type": "text"
      },
      "cell_type": "markdown",
      "source": [
        "#Run generation ofpianorolls"
      ]
    },
    {
      "metadata": {
        "id": "h6oelRAySp-v",
        "colab_type": "code",
        "colab": {}
      },
      "cell_type": "code",
      "source": [
        "import sys\n",
        "import os\n",
        "import os.path\n",
        "sys.path.append(\"EmoGAN/musegan\")\n",
        "sys.path.append(\"pypianoroll\")\n",
        "sys.path.append(\"pypianoroll/pypianoroll\")"
      ],
      "execution_count": 0,
      "outputs": []
    },
    {
      "metadata": {
        "id": "eriEkz0IAJMB",
        "colab_type": "code",
        "outputId": "fb37c7e6-b72e-4aff-d486-f0b01f5c1467",
        "colab": {
          "base_uri": "https://localhost:8080/",
          "height": 1601
        }
      },
      "cell_type": "code",
      "source": [
        "\n",
        "!cd EmoGAN; git pull\n",
        "!chmod u+x ./EmoGAN/scripts/run_inference.sh\n",
        "!chmod u+x ./EmoGAN/scripts/download_models.sh\n",
        "!cd EmoGAN; ./scripts/download_models.sh\n",
        "!cd EmoGAN; ./scripts/run_inference.sh \"./exp/default/\" \"0\""
      ],
      "execution_count": 0,
      "outputs": [
        {
          "output_type": "stream",
          "text": [
            "Already up to date.\n",
            "--2018-11-01 02:54:04--  https://docs.google.com/uc?export=download&confirm=9u_g&id=17qJ6jDElLMukwQBZjDEnJctpkyDsd09g\n",
            "Resolving docs.google.com (docs.google.com)... 173.194.76.138, 173.194.76.100, 173.194.76.113, ...\n",
            "Connecting to docs.google.com (docs.google.com)|173.194.76.138|:443... connected.\n",
            "HTTP request sent, awaiting response... 302 Moved Temporarily\n",
            "Location: https://doc-14-b8-docs.googleusercontent.com/docs/securesc/ha0ro937gcuc7l7deffksulhg5h7mbp1/2ljs8l5lg5hmh42llq1cjf2vi7dho3b1/1541037600000/15994423637875292506/*/17qJ6jDElLMukwQBZjDEnJctpkyDsd09g?e=download [following]\n",
            "Warning: wildcards not supported in HTTP.\n",
            "--2018-11-01 02:54:04--  https://doc-14-b8-docs.googleusercontent.com/docs/securesc/ha0ro937gcuc7l7deffksulhg5h7mbp1/2ljs8l5lg5hmh42llq1cjf2vi7dho3b1/1541037600000/15994423637875292506/*/17qJ6jDElLMukwQBZjDEnJctpkyDsd09g?e=download\n",
            "Resolving doc-14-b8-docs.googleusercontent.com (doc-14-b8-docs.googleusercontent.com)... 108.177.15.132, 2a00:1450:400c:c0c::84\n",
            "Connecting to doc-14-b8-docs.googleusercontent.com (doc-14-b8-docs.googleusercontent.com)|108.177.15.132|:443... connected.\n",
            "HTTP request sent, awaiting response... 200 OK\n",
            "Length: unspecified [application/gzip]\n",
            "Saving to: ‘/content/EmoGAN/scripts/../exp/pretrained_models.tar.gz’\n",
            "\n",
            "/content/EmoGAN/scr     [     <=>            ] 127.31M  63.6MB/s    in 2.0s    \n",
            "\n",
            "2018-11-01 02:54:07 (63.6 MB/s) - ‘/content/EmoGAN/scripts/../exp/pretrained_models.tar.gz’ saved [133499820]\n",
            "\n",
            "Decompressing archive.\n",
            "Successfully decompressed.\n",
            "musegan.inference    INFO     Using parameters:\n",
            "{'beat_resolution': 12,\n",
            " 'data_shape': [4, 48, 84, 5],\n",
            " 'is_conditional': False,\n",
            " 'latent_dim': 128,\n",
            " 'nets': {'discriminator': 'default', 'generator': 'default'},\n",
            " 'use_binary_neurons': False}\n",
            "musegan.inference    INFO     Using configurations:\n",
            "{'adam': {'beta1': 0.5, 'beta2': 0.9},\n",
            " 'batch_size': 64,\n",
            " 'checkpoint_dir': './exp/default//model',\n",
            " 'colormap': [[1.0, 0.0, 0.0],\n",
            "              [1.0, 0.5, 0.0],\n",
            "              [0.0, 1.0, 0.0],\n",
            "              [0.0, 0.0, 1.0],\n",
            "              [0.0, 0.5, 1.0]],\n",
            " 'columns': 5,\n",
            " 'config': './exp/default//config.yaml',\n",
            " 'data_filename': 'train_x_lpd_5_phr',\n",
            " 'data_root': None,\n",
            " 'data_source': 'sa',\n",
            " 'evaluate_steps': 100,\n",
            " 'gan_loss_type': 'wasserstein',\n",
            " 'gpu': '0',\n",
            " 'initial_learning_rate': 0.001,\n",
            " 'learning_rate_schedule': {'end': 50000, 'end_value': 0.0, 'start': 45000},\n",
            " 'log_loss_steps': 100,\n",
            " 'lower': -2,\n",
            " 'midi': {'is_drums': [1, 0, 0, 0, 0],\n",
            "          'lowest_pitch': 24,\n",
            "          'programs': [0, 0, 25, 33, 48],\n",
            "          'tempo': 100},\n",
            " 'n_dis_updates_per_gen_update': 5,\n",
            " 'n_jobs': 20,\n",
            " 'params': './exp/default//params.yaml',\n",
            " 'result_dir': './exp/default//results/inference',\n",
            " 'rows': 5,\n",
            " 'runs': 10,\n",
            " 'sample_grid': [8, 8],\n",
            " 'save_array_samples': True,\n",
            " 'save_checkpoint_steps': 10000,\n",
            " 'save_image_samples': True,\n",
            " 'save_pianoroll_samples': True,\n",
            " 'save_samples_steps': 100,\n",
            " 'save_summaries_steps': 0,\n",
            " 'slope_schedule': {'end': 50000, 'end_value': 5.0, 'start': 10000},\n",
            " 'steps': 50000,\n",
            " 'upper': 2,\n",
            " 'use_gradient_penalties': True,\n",
            " 'use_learning_rate_decay': True,\n",
            " 'use_random_transpose': False,\n",
            " 'use_slope_annealing': False,\n",
            " 'use_train_test_split': False}\n",
            "musegan.model        INFO     Building model.\n",
            "musegan.model        INFO     Building training nodes.\n",
            "musegan.model        INFO     Building losses.\n",
            "musegan.model        INFO     Building training ops.\n",
            "musegan.model        INFO     Building summaries.\n",
            "musegan.model        INFO     Building prediction nodes.\n",
            "2018-11-01 02:54:32.800388: I tensorflow/stream_executor/cuda/cuda_gpu_executor.cc:964] successful NUMA node read from SysFS had negative value (-1), but there must be at least one NUMA node, so returning NUMA node zero\n",
            "2018-11-01 02:54:32.800924: I tensorflow/core/common_runtime/gpu/gpu_device.cc:1432] Found device 0 with properties: \n",
            "name: Tesla K80 major: 3 minor: 7 memoryClockRate(GHz): 0.8235\n",
            "pciBusID: 0000:00:04.0\n",
            "totalMemory: 11.17GiB freeMemory: 11.10GiB\n",
            "2018-11-01 02:54:32.800969: I tensorflow/core/common_runtime/gpu/gpu_device.cc:1511] Adding visible gpu devices: 0\n",
            "2018-11-01 02:54:33.749326: I tensorflow/core/common_runtime/gpu/gpu_device.cc:982] Device interconnect StreamExecutor with strength 1 edge matrix:\n",
            "2018-11-01 02:54:33.749393: I tensorflow/core/common_runtime/gpu/gpu_device.cc:988]      0 \n",
            "2018-11-01 02:54:33.749418: I tensorflow/core/common_runtime/gpu/gpu_device.cc:1001] 0:   N \n",
            "2018-11-01 02:54:33.749790: I tensorflow/core/common_runtime/gpu/gpu_device.cc:1115] Created TensorFlow device (/job:localhost/replica:0/task:0/device:GPU:0 with 10758 MB memory) -> physical GPU (device: 0, name: Tesla K80, pci bus id: 0000:00:04.0, compute capability: 3.7)\n",
            "musegan.inference    INFO     Restoring the latest checkpoint.\n",
            "INFO:tensorflow:Restoring parameters from /content/EmoGAN/exp/default/model/model.ckpt-300450\n",
            "tensorflow           INFO     Restoring parameters from /content/EmoGAN/exp/default/model/model.ckpt-300450\n"
          ],
          "name": "stdout"
        }
      ]
    },
    {
      "metadata": {
        "id": "wC_UldmXkL3t",
        "colab_type": "code",
        "outputId": "04fba6a2-3065-4eaf-a371-939bc36f2a47",
        "colab": {
          "base_uri": "https://localhost:8080/",
          "height": 136
        }
      },
      "cell_type": "code",
      "source": [
        "!cd EmoGAN; git pull\n",
        "!python EmoGAN/v2/musegan/utils/midi_io.py --in_file=exp/default/results/inference/arrays/fake_x_bernoulli_sampling/fake_x_bernoulli_sampling_0.npz --out_file=fake_x.midi --config_file=exp/default/results/inference/config.yaml "
      ],
      "execution_count": 0,
      "outputs": [
        {
          "output_type": "stream",
          "text": [
            "Already up to date.\n",
            "Traceback (most recent call last):\n",
            "  File \"EmoGAN/v2/musegan/utils/midi_io.py\", line 101, in <module>\n",
            "    save_midi(args.out_file, args.in_file, args.config_file)\n",
            "  File \"EmoGAN/v2/musegan/utils/midi_io.py\", line 75, in save_midi\n",
            "    if not np.issubdtype(phrases.dtype, np.bool_):\n",
            "AttributeError: 'str' object has no attribute 'dtype'\n"
          ],
          "name": "stdout"
        }
      ]
    },
    {
      "metadata": {
        "id": "BwG_kxxFL-BM",
        "colab_type": "text"
      },
      "cell_type": "markdown",
      "source": [
        "#Convert pianorolls to midi using pypianoroll"
      ]
    },
    {
      "metadata": {
        "id": "KUIHl0PsL9Ip",
        "colab_type": "code",
        "outputId": "10915600-22a4-45d1-85f7-12209cdfbd27",
        "colab": {
          "base_uri": "https://localhost:8080/",
          "height": 139
        }
      },
      "cell_type": "code",
      "source": [
        "!pip install pypianoroll\n",
        "import pypianoroll\n",
        "pianoroll_path = 'EmoGAN/exp/default/results/inference/pianorolls/fake_x_bernoulli_sampling/fake_x_bernoulli_sampling_0.npz'\n",
        "pianoroll = pypianoroll.load(pianoroll_path)\n",
        "pypianoroll.write(pianoroll, 'roll.midi')"
      ],
      "execution_count": 0,
      "outputs": [
        {
          "output_type": "stream",
          "text": [
            "Requirement already satisfied: pypianoroll in /usr/local/lib/python3.6/dist-packages (0.5.0)\n",
            "Requirement already satisfied: six<2.0,>=1.0.0 in /usr/local/lib/python3.6/dist-packages (from pypianoroll) (1.11.0)\n",
            "Requirement already satisfied: scipy<2.0,>=1.0.0 in /usr/local/lib/python3.6/dist-packages (from pypianoroll) (1.1.0)\n",
            "Requirement already satisfied: pretty-midi<1.0,>=0.2.8 in /usr/local/lib/python3.6/dist-packages (from pypianoroll) (0.2.8)\n",
            "Requirement already satisfied: numpy<2.0,>=1.10.0 in /usr/local/lib/python3.6/dist-packages (from pypianoroll) (1.14.6)\n",
            "Requirement already satisfied: mido>=1.1.16 in /usr/local/lib/python3.6/dist-packages (from pretty-midi<1.0,>=0.2.8->pypianoroll) (1.2.9)\n"
          ],
          "name": "stdout"
        }
      ]
    },
    {
      "metadata": {
        "id": "OPSyDTGRzY2s",
        "colab_type": "text"
      },
      "cell_type": "markdown",
      "source": [
        "#Download files from colab to you"
      ]
    },
    {
      "metadata": {
        "id": "Y-AwXf3r9bw_",
        "colab_type": "code",
        "outputId": "a9c0799f-d81a-4224-a55d-66a2e567ff5b",
        "colab": {
          "base_uri": "https://localhost:8080/",
          "height": 215
        }
      },
      "cell_type": "code",
      "source": [
        "\n",
        "from google.colab import files\n",
        "import os\n",
        "for filename in os.listdir(\"checkpoints\"):\n",
        "    files.download(\"checkpoints/\"+str(filename))"
      ],
      "execution_count": 0,
      "outputs": [
        {
          "output_type": "error",
          "ename": "FileNotFoundError",
          "evalue": "ignored",
          "traceback": [
            "\u001b[0;31m---------------------------------------------------------------------------\u001b[0m",
            "\u001b[0;31mFileNotFoundError\u001b[0m                         Traceback (most recent call last)",
            "\u001b[0;32m<ipython-input-10-ade81f5882b9>\u001b[0m in \u001b[0;36m<module>\u001b[0;34m()\u001b[0m\n\u001b[1;32m      2\u001b[0m \u001b[0;32mfrom\u001b[0m \u001b[0mgoogle\u001b[0m\u001b[0;34m.\u001b[0m\u001b[0mcolab\u001b[0m \u001b[0;32mimport\u001b[0m \u001b[0mfiles\u001b[0m\u001b[0;34m\u001b[0m\u001b[0m\n\u001b[1;32m      3\u001b[0m \u001b[0;32mimport\u001b[0m \u001b[0mos\u001b[0m\u001b[0;34m\u001b[0m\u001b[0m\n\u001b[0;32m----> 4\u001b[0;31m \u001b[0;32mfor\u001b[0m \u001b[0mfilename\u001b[0m \u001b[0;32min\u001b[0m \u001b[0mos\u001b[0m\u001b[0;34m.\u001b[0m\u001b[0mlistdir\u001b[0m\u001b[0;34m(\u001b[0m\u001b[0;34m\"checkpoints\"\u001b[0m\u001b[0;34m)\u001b[0m\u001b[0;34m:\u001b[0m\u001b[0;34m\u001b[0m\u001b[0m\n\u001b[0m\u001b[1;32m      5\u001b[0m     \u001b[0mfiles\u001b[0m\u001b[0;34m.\u001b[0m\u001b[0mdownload\u001b[0m\u001b[0;34m(\u001b[0m\u001b[0;34m\"checkpoints/\"\u001b[0m\u001b[0;34m+\u001b[0m\u001b[0mstr\u001b[0m\u001b[0;34m(\u001b[0m\u001b[0mfilename\u001b[0m\u001b[0;34m)\u001b[0m\u001b[0;34m)\u001b[0m\u001b[0;34m\u001b[0m\u001b[0m\n",
            "\u001b[0;31mFileNotFoundError\u001b[0m: [Errno 2] No such file or directory: 'checkpoints'"
          ]
        }
      ]
    },
    {
      "metadata": {
        "id": "u1ZpgqoIAOFd",
        "colab_type": "code",
        "colab": {}
      },
      "cell_type": "code",
      "source": [
        ""
      ],
      "execution_count": 0,
      "outputs": []
    }
  ]
}